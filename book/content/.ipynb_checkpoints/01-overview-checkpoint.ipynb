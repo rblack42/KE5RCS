{
 "cells": [
  {
   "cell_type": "code",
   "execution_count": null,
   "id": "149371af",
   "metadata": {
    "collapsed": true
   },
   "outputs": [],
   "source": []
  },
  {
   "cell_type": "code",
   "execution_count": null,
   "id": "22e8601b",
   "metadata": {
    "collapsed": true
   },
   "outputs": [],
   "source": []
  },
  {
   "cell_type": "markdown",
   "id": "369e3876",
   "metadata": {},
   "source": [
    "# Overview\n",
    "\n",
    "This site presents documentation on the installation, configuration and management of a D-Star Gateway. Specifically, the *KE5RCS* Gateway setup is detailed. \n",
    "\n",
    "The original installation was set up by the author in 2015, and is being udated at this time to the latest version of the gateway software. "
   ]
  },
  {
   "cell_type": "markdown",
   "id": "c586b5a4",
   "metadata": {},
   "source": [
    "## Jupyter Notebooks"
   ]
  },
  {
   "cell_type": "markdown",
   "id": "9143e721",
   "metadata": {},
   "source": [
    "The document you are reading was developed using a tool very popular in the *Data Science* world: *Jupyter*. This is a web based tool that you can install on your personal computer. This program lets you create *notebooks* where you document your research work, complete with nice figures, math, and code that you can actually run as you work through a development. You cannot easily create a conventional program with *Jupyter*, but you can write parts of a program that can be copied to a more normal development environment for proper testing and deployment.\n",
    "\n",
    "Since this site is not creating much software, most of what you will see presents scripts used to install and configure the D-Star gateway computer. The G2 version of the site is running on a now unsupported version of *Centos5* Linux. For that setup, all management scripts are *Bash* scripts. For the newer G2 software, the operating system is *CentOS 7* and *Python 3* scripts are used on occasion."
   ]
  }
 ],
 "metadata": {
  "kernelspec": {
   "display_name": "Python 3 (ipykernel)",
   "language": "python",
   "name": "python3"
  },
  "language_info": {
   "codemirror_mode": {
    "name": "ipython",
    "version": 3
   },
   "file_extension": ".py",
   "mimetype": "text/x-python",
   "name": "python",
   "nbconvert_exporter": "python",
   "pygments_lexer": "ipython3",
   "version": "3.10.8"
  },
  "latex_envs": {
   "LaTeX_envs_menu_present": true,
   "autoclose": false,
   "autocomplete": true,
   "bibliofile": "biblio.bib",
   "cite_by": "apalike",
   "current_citInitial": 1,
   "eqLabelWithNumbers": true,
   "eqNumInitial": 1,
   "hotkeys": {
    "equation": "Ctrl-E",
    "itemize": "Ctrl-I"
   },
   "labels_anchors": false,
   "latex_user_defs": false,
   "report_style_numbering": false,
   "user_envs_cfg": false
  },
  "toc": {
   "base_numbering": 1,
   "nav_menu": {},
   "number_sections": true,
   "sideBar": true,
   "skip_h1_title": false,
   "title_cell": "Table of Contents",
   "title_sidebar": "Contents",
   "toc_cell": false,
   "toc_position": {},
   "toc_section_display": true,
   "toc_window_display": false
  },
  "varInspector": {
   "cols": {
    "lenName": 16,
    "lenType": 16,
    "lenVar": 40
   },
   "kernels_config": {
    "python": {
     "delete_cmd_postfix": "",
     "delete_cmd_prefix": "del ",
     "library": "var_list.py",
     "varRefreshCmd": "print(var_dic_list())"
    },
    "r": {
     "delete_cmd_postfix": ") ",
     "delete_cmd_prefix": "rm(",
     "library": "var_list.r",
     "varRefreshCmd": "cat(var_dic_list()) "
    }
   },
   "types_to_exclude": [
    "module",
    "function",
    "builtin_function_or_method",
    "instance",
    "_Feature"
   ],
   "window_display": false
  }
 },
 "nbformat": 4,
 "nbformat_minor": 5
}
