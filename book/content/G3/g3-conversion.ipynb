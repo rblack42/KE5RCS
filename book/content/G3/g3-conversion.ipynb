{
 "cells": [
  {
   "cell_type": "markdown",
   "id": "532b2b00",
   "metadata": {},
   "source": [
    "# G3 Conversion"
   ]
  },
  {
   "cell_type": "markdown",
   "id": "9ec722c7",
   "metadata": {},
   "source": [
    "We put off doing the G3 upgrade to the KE5RCS repeater for far too long. What pushed us over the edge was a hardware failure that took out our RP2C controller unit. When we looked into repairing the device, we discovered that ICOM has basically abandoned these controllers and moved on to new repeater hardware. After considering options, we elected to buy a single ID-RP4010V repeater module and retire the full stack of repeaters we still have at the repeater site. Those may be surplussed at a later time.\n",
    "\n",
    "So, with new hardware in hand, we decided it was time to upgrade to G3. As part of that decision, we also elected to purchase a used Dell computer that was much more current than the old gateway server.  "
   ]
  },
  {
   "cell_type": "markdown",
   "id": "18a3cf81",
   "metadata": {},
   "source": [
    "I did a bit of research into the upgrade process and found an overview of D-Star and the G3 conversion on Ve3IPS's blog {cite}`ve3ips2017`. See [G3 Upgrade](https://ve3ips.wordpress.com/2017/03/23/ve3yyz-upgraded-to-g3-d-star/) for more background."
   ]
  },
  {
   "cell_type": "markdown",
   "id": "1cbe9991",
   "metadata": {},
   "source": [
    "## Backup User Data from G2 Server\n",
    "\n",
    "With the old gateway machine still running, we followed these steps to create a backup for the new system. Note that we are not touching the disk in that machine until the new gateway system is fully operational, ust in case it is needed later.\n",
    "\n",
    "As root, use these commands to create the backup:\n",
    "\n",
    "```{shell}\n",
    "cd /tmp\n",
    "curl -O dsync.dstar.info/G3/g2_upgrade backup\n",
    "chmod 755 g2_upgrade_backup\n",
    "./g2_upgrade_backup\n",
    "shutdown -h now\n",
    "```"
   ]
  },
  {
   "cell_type": "markdown",
   "id": "a4c1c096",
   "metadata": {},
   "source": [
    "This script offers to save your backup on a remote server. I elected not to send a copy to that backup to that server. Once the new gateway  machine is running, I will use **scp** to copy the file to the new machine. Here is the command that copie the backup file to my laptop:"
   ]
  },
  {
   "cell_type": "markdown",
   "id": "031559cd",
   "metadata": {},
   "source": [
    "From my Macbook:\n",
    "\n",
    "```{shell}\n",
    "scp n5ujh@192.168.1.28:/home/n5ujh/g2_backup.tar g2_backup.tar\n",
    "```"
   ]
  },
  {
   "cell_type": "markdown",
   "id": "2d76db52",
   "metadata": {},
   "source": [
    "## Building the CentOS 7 Basic gateway server."
   ]
  },
  {
   "cell_type": "markdown",
   "id": "0e146974",
   "metadata": {},
   "source": [
    "I downloaded the CentOS 7 ISO file for the basic GUI version of the server. The instructions for setting up a gateway machine call for using the minimal version of the OS, but that means that managing the machine must be done using the command line exclusively. I have found it easier to use the GUI for on-site management tasks, plus my co-administrator, is not all that comfortable using the command line."
   ]
  },
  {
   "cell_type": "markdown",
   "id": "515feccb",
   "metadata": {},
   "source": [
    "### Network Setup"
   ]
  },
  {
   "cell_type": "markdown",
   "id": "00098071",
   "metadata": {},
   "source": [
    "When I put together the G2 gateway machine many years ago, I created a second LAN inside my home network using a second router that would end up beinginstalled at the repeater site. The WAN port on the second router was connected to an available Ethernet port on my primary home router so that the second router could get an IP address using DHCP from the primary router."
   ]
  },
  {
   "cell_type": "markdown",
   "id": "f9686134",
   "metadata": {},
   "source": [
    "For the G3 setup, we used an ASUS RT-N12D1 router to recreate this setup. With the second router powered up, I used the ASUS Router app in my iPhone to find the second router, then I was able to set up basic administrator access for the router.\n",
    "\n",
    "I configured the LAN side of the ASUS router with an address of 10.0.0.1 as required by ICOM. Once that was configured and applied to the router, I was able to connect to the ASUS router over Wifi and access the administrator control panel as usual. \n"
   ]
  },
  {
   "cell_type": "markdown",
   "id": "e38e5bc1",
   "metadata": {},
   "source": [
    "I used Balena Etcher on my Macbook to create a bootable USB drive and set the the new machine to boot from the CD. "
   ]
  },
  {
   "cell_type": "markdown",
   "id": "a93ca4bc",
   "metadata": {},
   "source": [
    "## Step 1: Create a Bootable USB\n",
    "\n",
    "The new machine we purchased a older Dell Optiplex machine with 4GB Ram, 128GB SSD, a DVD, and two ethernet adapters to replace our old HP machine. Unfortunately, the DVD was not working, so I used *Etcher* to build a bootable USB Flash image from the Centos 7 iso. We elected to install the DVD edition of the OS, since managing the machine is easier for non-expert Linux administrators. With this USB, we set the BIOS (hit F2 on the Dell when booting) to boot from DVD, the SSD, then USB. "
   ]
  },
  {
   "cell_type": "markdown",
   "id": "66e85c4f",
   "metadata": {},
   "source": [
    "## Install a Fresh SSD in Gateway\n",
    "\n",
    "We installed a Samsung 250GB SSD drive in the Dell machine. This is overkill for this application, but these drives are getting pretty cheap, and it was available."
   ]
  },
  {
   "cell_type": "markdown",
   "id": "44343641",
   "metadata": {},
   "source": [
    "## Boot the Gateway Machine\n",
    "\n",
    "With a new SSD drive in the machine, we plugged in the USB drive and powered up the Dell. The system booted into the CentOS installer and from that point, we followed the ICOM provided guide to configuring the machine."
   ]
  },
  {
   "cell_type": "markdown",
   "id": "4ce31ad7",
   "metadata": {},
   "source": [
    "## ICOM Setup steps\n",
    "\n",
    "These steps are fairly simple. \n",
    "\n",
    "- Select Language: English\n",
    "- Set Date & Time: Chicago (could not set Network Time here)\n",
    "- Set Destination Drive: SSD (Had to work through the reclaim space to delete old partitions)\n",
    "- configure network as indicated in the setup guide\n",
    "- Set Root Password: (rb set)\n",
    "- Create User: n5ujh (administrator)\n",
    "\n",
    "Once these settings were in place, the OS installation proceeded.\n",
    "\n",
    "When complete, pull the USB and reboot (had to power down)\n",
    "    "
   ]
  },
  {
   "cell_type": "markdown",
   "id": "4e651a61",
   "metadata": {},
   "source": [
    "With the new machine running in my home LAN, I copied the G2 backup to the new machine:\n",
    "\n",
    "```{shell}\n",
    "scp g2_backup.tar n5ujh@192.168.1.28:/home/n5ujh/\n",
    "```"
   ]
  },
  {
   "cell_type": "markdown",
   "id": "0a4a84ab",
   "metadata": {},
   "source": [
    "TheGUI did not come up the first time I booted he system. That can be fixed later."
   ]
  },
  {
   "cell_type": "markdown",
   "id": "7d951cc9",
   "metadata": {},
   "source": [
    "## Verify Administrator Can Log in\n",
    "\n",
    "The system boots to a shell logon prompt. I logged in using the credentials set, and verified that I could access SUDO commands using th eroot password set. "
   ]
  },
  {
   "cell_type": "markdown",
   "id": "dacc7acd",
   "metadata": {},
   "source": [
    "## Add GUI Components\n",
    "\n",
    "The G3 setup instructions call for the \"minimal\" version of the OS. Hoever, that means that all work on the gateway server will be done on the command line. In our situation, the repeater is administered remotely for gateway software issues, and locally for radio issues. The local administrator is not really comfortable running commands from the command line, so we elected to install the graphical version of the OS. \n",
    "\n",
    "The basic installation of the OS did not load the GUI administration tools. Once the system was running, I ran these commands to install them:\n",
    "\n",
    "```{shell}\n",
    "sudo su\n",
    "yum groupinstall \"GNOME Desktop\" \"Graphical Administration Tools\" -y\n",
    "systemctl set-default graphical.target\n",
    "/sbin/reboot\n",
    "```\n",
    "\n",
    "When the GUI starts up the first time, there is a bit of configuring left to do."
   ]
  },
  {
   "cell_type": "markdown",
   "id": "bf8ce1b1",
   "metadata": {},
   "source": [
    "## Transfer G3 Software\n",
    "\n",
    "I could not convince the OS to mount a Fat32 formatted USB drive, so I copied the files using **scp**:\n",
    "\n",
    "```{shell[\n",
    "scp dstar_gw-3.10-8.el7.x86_64.rmp n5ujh@192.168.1.28:/home/n5ujh\n",
    "scp dstar_gw_gpg-3.10-3.noarch.rpm n5ujh@192.168.1.28:/home/n5ujh\n",
    "scp install-310.sh n5ujh@192.168.1.28:/home/n5ujh\n",
    "```\n"
   ]
  },
  {
   "cell_type": "markdown",
   "id": "09eda240",
   "metadata": {},
   "source": [
    "## Update the System\n",
    "\n",
    "```{shell}\n",
    "yum -y update\n",
    "/sbin/reboot\n",
    "```\n",
    "\n",
    "This got the system ready for the G3 software installation. Before that is possible, the router needs to be configured with all port-forwarding settings needed, since the installation process checks that.\n"
   ]
  },
  {
   "cell_type": "markdown",
   "id": "61e4eb6d",
   "metadata": {},
   "source": [
    "## Router Port Forwarding\n",
    "\n",
    "The Asus router needs to be configured with these port forwarding \n",
    "settings:\n",
    "\n",
    "- 20001-20005: TCP,UDP to 10.0.0.2 (data sync.dplus - dsipsvd.conf)\n",
    "- 40000: UDP to 10.0.0.2 (voice data transfer - dsgwd.conf)\n",
    "- 40001: TCP to 10.0.0.2 (data transfer dsgwd.conf)\n",
    "- 443: TCP to 10.0.0.2 (web interface)\n",
    "- 12345: UDP to 10.0.0.2 (position request - dsipsvd.conf)\n",
    "- 12346: UDP to 10.0.0.2 (position registration - dsipsvd.conf)"
   ]
  },
  {
   "cell_type": "markdown",
   "id": "9bf86b1e",
   "metadata": {},
   "source": [
    "## Run g3_installer Script"
   ]
  },
  {
   "cell_type": "markdown",
   "id": "46a1cbbe",
   "metadata": {},
   "source": [
    "- Enter CallSign: KE5RCS\n",
    "- Enter Backup Keyword: N5UJH\n",
    "- Enter repeater latitude: 30.7333\n",
    "- Enter repeater longitude: -97.5793 (from Google Maps)\n",
    "- Enter Module B: 440.575 +5.00 MHz\n",
    "- Enter coverage area: 40 miles\n",
    "\n",
    "The script is supposed to use the G2 backup file and restore tables in the Postgres database. However, in repeated runs, it does not even try to do this. I decided to unpack this script and see if I can figure out why!\n",
    "\n",
    "Let's download the installer script from the server:    "
   ]
  },
  {
   "cell_type": "code",
   "execution_count": 1,
   "id": "17ea7214",
   "metadata": {},
   "outputs": [
    {
     "name": "stdout",
     "output_type": "stream",
     "text": [
      "g3_installer                                  100%   19KB 132.1KB/s   00:00    \n"
     ]
    }
   ],
   "source": [
    "!scp n5ujh@ke5rcs:G3/g3_installer ."
   ]
  },
  {
   "cell_type": "code",
   "execution_count": 2,
   "id": "accfdbce",
   "metadata": {},
   "outputs": [
    {
     "name": "stdout",
     "output_type": "stream",
     "text": [
      "g3-conversion.ipynb \u001b[31mg3_installer\u001b[m\u001b[m\r\n"
     ]
    }
   ],
   "source": [
    "!ls"
   ]
  },
  {
   "cell_type": "markdown",
   "id": "5d1eff9b",
   "metadata": {},
   "source": [
    "This script is substantially shorter than the G2 script. In the following sections, I will break the script apart and see what major steps it performs."
   ]
  },
  {
   "cell_type": "markdown",
   "id": "93db09b0",
   "metadata": {},
   "source": [
    "The first part of the script defines variables for use later:"
   ]
  },
  {
   "cell_type": "markdown",
   "id": "82629728",
   "metadata": {},
   "source": [
    "```{shell}\n",
    "VERSION=3.4.3\n",
    "# \n",
    "RECONFIG=false\n",
    "SKIP_PORTTEST=0\n",
    "export GW_IP=10.0.0.1\n",
    "export ZR_IP=172.16.0.1\n",
    "#\n",
    "KERNEL=`/bin/uname -r`;\n",
    "CURL=\"/usr/bin/curl --connect-timeout 120 --max-time 360\"\n",
    "ROOTG3=rootg3.dstarusers.org\n",
    "BACKDIR=/dstar/backups\n",
    "#\n",
    "# ICOM G3\n",
    "#\n",
    "DSTARGW=/opt/products/dstar/dstar_gw\n",
    "DSIPSVD=$DSTARGW/dsipsvd/dsipsvd\n",
    "DSGWD=$DSTARGW/dsgwd/dsgwd\n",
    "DSGWDCONF=$DSTARGW/dsgwd/dsgwd.conf\n",
    "DBDELREC=$DSTARGW/dsipsvd/dbdelrec\n",
    "DSICONF=$DSTARGW/dsipsvd/dsipsvd.conf\n",
    "#\n",
    "# DSync \n",
    "#\n",
    "DSYNC=https://dsync.dstarusers.org\n",
    "UPDATE_URL=$DSYNC/dsync.php\n",
    "SCR_PATH=/dstar/scripts\n",
    "SCHED=gw_schedule_g310\n",
    "UPDATER=update_scripts_g310\n",
    "#\n",
    "# AA4RC Utils\n",
    "#\n",
    "TOOLS=/dstar/tools\n",
    "DPLUSCONF=$TOOLS/dplus.conf\n",
    "IPPORTTEST=IPPortTestClient.bin\n",
    "OPENDSTAR=http://www.opendstar.org/tools\n",
    "#\n",
    "# DStarMonitor \n",
    "#\n",
    "DSM_DIR=/opt/dstarmon\n",
    "DSM_BAK=/opt/dstarmon-`date +%Y%m%d-%H%M%S`\n",
    "DSM_PROP=dstarmonitor.properties\n",
    "DSM_CONF=$DSM_DIR/$DSM_PROP\n",
    "DSM_INIT=dsm4_init\n",
    "DSMTAR=dstarmonitor43.tar.gz\n",
    "#\n",
    "# Postgres\n",
    "# \n",
    "PG_URL=https://download.postgresql.org/pub/repos/yum/reporpms/EL-7-x86_64/pgdg-redhat-repo-latest.noarch.rpm\n",
    "#\n",
    "```"
   ]
  },
  {
   "cell_type": "markdown",
   "id": "69cbb0ab",
   "metadata": {},
   "source": [
    "Next, the script checks to verify that it is being run as **root**:\n",
    "\n",
    "```{shell}\n",
    "if [ $EUID != 0 ] ; then\n",
    "    echo \"Installation script must be run as root.  Aborting!\" | tee -a $LOGF\n",
    "    exit\n",
    "fi\n",
    "```\n",
    "\n",
    "You might see a problem here. The **$LOGF** variable, used here has not defined. This is not a big deal, since all that happens is that the root error message will not end up in the log file.\n"
   ]
  },
  {
   "cell_type": "markdown",
   "id": "8d8c6daf",
   "metadata": {},
   "source": [
    "This next block of code checks to see where the script is running, and gets the current date and time. Then it looks to see if the **g3.zip** file is available.\n",
    "\n",
    "```{shell}\n",
    "CWD=`/bin/pwd`\n",
    "DATE=`date \"+%y%m%d-%H%M%S\"`\n",
    "LOGF=/tmp/G3-Installation-$DATE.log\n",
    "```\n",
    "G3ZIP=`find /tmp -iname g3.zip`\n"
   ]
  },
  {
   "cell_type": "markdown",
   "id": "666ceb98",
   "metadata": {},
   "source": [
    "This next block checks the command line ot see what options the user selected.\n",
    "\n",
    "```{shell]\n",
    "# \n",
    "# Parse command line arguments\n",
    "#\n",
    "\n",
    "while [[ $# -gt 0 ]]; do\n",
    "    argv=\"$1\"\n",
    "    case $argv in\n",
    "        -n|--noporttest)\n",
    "\t    SKIP_PORTTEST=true\n",
    "\t    ;;\n",
    "        -d|--debug)\n",
    "\t    DEBUG=true\n",
    "\t    ;;\n",
    "        -g|--gwip)\n",
    "\t    GW_IP=$2\n",
    "\t    shift\n",
    "\t    ;;\n",
    "        -r|--reconfigure)\n",
    "\t    RECONFIG=true\n",
    "\t    ;;\n",
    "        -z|--zrip)\n",
    "\t    export ZR_IP=$2\n",
    "\t    shift\n",
    "\t    ;;\n",
    "\t*)\n",
    "\t    echo Unknown Option: $argv\n",
    "\t    echo -e \"\\n\\t Usage: $0 -n|--noporttest -d|--debug -g|--gwip {router IP} -z|--zrip {rp2c IP} -r|--reconfigure\\n\"\n",
    "\t    exit\n",
    "\t    ;;\n",
    "    esac\n",
    "    shift\n",
    "done\n",
    "```\n",
    "\n",
    "That last \"Usage\" section shows what options are available. \n",
    "\n",
    "- **-n**: skips the port test section (**SKIP_PORTTEST**)\n",
    "- **-d**: enables debug messages (**DEBUG**)\n",
    "- **-g**: set the gateway IP address (**GW_IP**)\n",
    "- **-z**: set the rp2c (controller) IP addresses. (**ZR_IP**)\n",
    "- **-r**: reconfigure the gateway. (**RECONFIGURE**)"
   ]
  },
  {
   "cell_type": "markdown",
   "id": "4f254bc4",
   "metadata": {},
   "source": [
    "We display a sign-on message and start the log file:\n",
    "    \n",
    "    ```{shell}\n",
    "    #\n",
    "echo `date` \"ICOM G3 Gateway Upgrade Installer, Version = $VERSION\"\n",
    "echo `date` \"$0 Starting, Log file = $LOGF\" | tee -a $LOGF\n",
    "```"
   ]
  },
  {
   "cell_type": "markdown",
   "id": "aca4bc94",
   "metadata": {},
   "source": [
    "The script is supposed to be run from the **/tmp** directory. This section makes sure that is true:\n",
    "\n",
    "```{shell}\n",
    "\n",
    "if [ \"$CWD\" != \"/tmp\" ]; then\n",
    "    cd /tmp\n",
    "fi\n",
    "```"
   ]
  },
  {
   "cell_type": "markdown",
   "id": "b21c33be",
   "metadata": {},
   "source": [
    "This next chunk tests to see if the **g3.zip** file was found. If so, it installs **unzip** and unpacks the file to get the two installation **rpm** files.\n",
    "\n",
    "The outer **if** checks the **RECONFIG** variable. If it is **false**, the **rpm** files will be installed. If it is **true** the script skips installing these files.\n",
    "\n",
    "```{shell}\n",
    "#\n",
    "# Make sure we can find the ICOM RPMs directly, or the G3.zip archive\n",
    "#\n",
    "\n",
    "if [ \"$RECONFIG\" != \"true\" ]; then\n",
    "\n",
    "    if [ ! -z $G3ZIP ]; then\n",
    "\tif [ -f $G3ZIP ]; then\n",
    "\t    echo `date` \"Found G3.zip Archive\" | tee -a $LOGF\n",
    "\t    echo `date` \"Installing \\\"unzip\\\" utility and unzipping...\" | tee -a $LOGF\n",
    "\t    /bin/yum -y install unzip >> $LOGF 2>&1    \n",
    "\t    if [ \"$?\" != \"0\" ]; then\n",
    "\t\techo `date` \"Error installing unzip\" | tee -a $LOGF\n",
    "\t    fi\n",
    "\t    /bin/unzip -o $G3ZIP >> $LOGF 2>&1\n",
    "\t    if [ \"$?\" != \"0\" ]; then\n",
    "\t\techo `date` \"Error unzipping $G3ZIP archive.\" | tee -a $LOGF\n",
    "\t    fi\n",
    "\tfi\t\n",
    "    else\n",
    "\techo \"G3 ZIP archive not found, looking for G3 RPMs\" | tee -a $LOGF\n",
    "    fi\n",
    "```\n",
    "\n",
    "At this point, the **rpm** files should be available. The script makes sure they are available:\n",
    "\n",
    "```{shell}\n",
    "    GW3RPM=`find . -name dstar_gw-\\*.el7.x86_64.rpm`\n",
    "    GWGPG=`ls -1 dstar_gw_gpg*.noarch.rpm`\n",
    "\n",
    "    if [ -z $GW3RPM ]; then\n",
    "\techo \"ICOM G3 RPM not found, Aborting!\"\n",
    "\texit\n",
    "    fi\n",
    "    \n",
    "    if [ -z $GWGPG ]; then\n",
    "\techo \"ICOM PGP Key RPM not found, Aborting!\"\n",
    "\texit\n",
    "    fi\n",
    "fi\n",
    "```\n",
    "\n",
    "If we get here, we are ready to install the **rpm** files."
   ]
  },
  {
   "cell_type": "markdown",
   "id": "26b2080d",
   "metadata": {},
   "source": [
    "Next we define functions that start and stop the gateway services:\n",
    "\n",
    "```{shell}\n",
    "#\n",
    "# functions\n",
    "# \n",
    "\n",
    "function stop () {\n",
    "    /bin/systemctl stop dstar_gw\n",
    "    /bin/systemctl stop dplus\n",
    "    /bin/systemctl stop tomcat\n",
    "    /bin/systemctl stop dsm\n",
    "}\n",
    "\n",
    "function start () {\n",
    "    /bin/systemctl start dstar_gw\n",
    "    /bin/systemctl start dplus\n",
    "    /bin/systemctl start tomcat\n",
    "    /bin/systemctl start dsm\n",
    "}\n",
    "```\n",
    "\n",
    "This next unction reads the keyboard looking for a \"key=val\"string. It strips any white space then sets the two variables **\\$VAR** and **\\$FILE**\n",
    "\n",
    "```{shell}\n",
    "function key_val () {\n",
    "    VAR=$1\n",
    "    FILE=$2\n",
    "    local VAL=`egrep -e ^$VAR $FILE | sed -e 's/ //g' | awk -F\"=\" '{print $2}' |sed -e 's/\\r//'`;\n",
    "    echo $VAL\n",
    "}\n",
    "```"
   ]
  },
  {
   "cell_type": "markdown",
   "id": "aa8669cb",
   "metadata": {},
   "source": [
    "The next chunk installs tools under **/dstar/tools**:\n",
    "\n",
    "```{shell}\n",
    "#\n",
    "# Create /dstar/tools directory\n",
    "# \n",
    "mkdir -p $TOOLS\n",
    "```\n",
    "\n",
    "Next, download the port test code from **opendstar.org/tools**:\n",
    "\n",
    "```{shell}\n",
    "echo -n `date` \"Downloading IP Port Test Utility ... \" | tee -a $LOGF\n",
    "$CURL $OPENDSTAR/G3/$IPPORTTEST > $TOOLS/$IPPORTTEST 2>/dev/null\n",
    "echo \"DONE\"\n",
    "\n",
    "if [ \"$?\" != \"0\" ]; then\n",
    "    echo \"Warning - Unable to $CURL $OPENDSTAR/G3/$IPPORTTEST\" | tee -a $LOGF\n",
    "else\n",
    "    chmod 755 $TOOLS/$IPPORTTEST\n",
    "fi\n",
    "```\n",
    "\n",
    "This block installs a number of packages:\n",
    "\n",
    "```{shell}\n",
    "echo `date` \"Installing required packages \" | tee -a $LOGF\n",
    "\n",
    "PACKAGES=\"policycoreutils-python glib2.i686 ntp net-tools openssl098e.i686 openssl-libs.i686 libpcap postgresql-libs.i686 wget\"\n",
    "/bin/yum -y install $PACKAGES >> $LOGF 2>&1\n",
    "\n",
    "if [ \"$?\" != \"0\" ]; then\n",
    "    echo `date` \"## ERROR - Unable to install $PACKAGES with yum, aborting.\" | tee -a $LOGF\n",
    "    exit\n",
    "fi\n",
    "```\n"
   ]
  },
  {
   "cell_type": "markdown",
   "id": "b828b757",
   "metadata": {},
   "source": [
    "Configure the Time Service\n",
    "\n",
    "```{shell}\n",
    "# \n",
    "# Start ntp time service\n",
    "#\n",
    "systemctl enable ntpd.service | tee -a $LOGF\n",
    "```"
   ]
  },
  {
   "cell_type": "markdown",
   "id": "981833d2",
   "metadata": {},
   "source": [
    "Now we start the installation of the **rpm** files. The services need to be stopped before this happens\n",
    "\n",
    "```{shell}\n",
    "\n",
    "if [ \"$RECONFIG\" == \"true\" ]; then\n",
    "    echo `date` \"Stopping DSTAR daemons before re-configuration \"\n",
    "    stop\n",
    "fi\n",
    "```"
   ]
  },
  {
   "cell_type": "markdown",
   "id": "d4fe081c",
   "metadata": {},
   "source": [
    "Run the port test unless we are skipping (**-r**):\n",
    "\n",
    "```{shell}\n",
    "if [ $SKIP_PORTTEST != \"true\" ]; then\n",
    "    echo `date` \"Running IP port test to validate router port forwarding configuration:\"  | tee -a $LOGF\n",
    "\n",
    "    if [ -x $TOOLS/$IPPORTTEST ]; then\n",
    "\techo `date` \"Stopping firewall for port forwarding test\" | tee -a $LOGF\n",
    "\tsystemctl stop firewalld | tee -a $LOGF\n",
    "\n",
    "\t$TOOLS/$IPPORTTEST >& /tmp/porttest.log\n",
    "\tif grep --quiet FAILED /tmp/porttest.log; then\n",
    "\t    echo `date` \"FAILED IP Port forwarding test!\" | tee -a $LOGF\n",
    "\t    echo -e \"\\n\\t#### You MUST correct the following port forwarding problem before your gateway will be functional: ####\\n\" | tee -a $LOGF\n",
    "\t    cat /tmp/porttest.log\n",
    "\t    echo | tee -a $LOGF\n",
    "\t    /bin/stty sane\n",
    "\telse\n",
    "\t    echo `date` \"Gateway router has passed the port forwarding test\" | tee -a $LOGF\n",
    "\tfi\n",
    "    else\n",
    "\techo `date` \"$TOOLS/$IPPORTTEST not installed, or not executable!\" | tee -a $LOGF\n",
    "    fi\n",
    "else\n",
    "    echo `date` \"Skipping IP Port Test\" | tee -a $LOGF\n",
    "fi\n",
    "```"
   ]
  },
  {
   "cell_type": "markdown",
   "id": "04a1fa15",
   "metadata": {},
   "source": [
    "Next, install the **rp2c** utility:\n",
    "\n",
    "```{shell}\n",
    "#\n",
    "# Install rp2c utility\n",
    "#\n",
    "\n",
    "$CURL $OPENDSTAR/G2/rp2c > $TOOLS/rp2c 2>/dev/null\n",
    "if [ \"$?\" != \"0\" ]; then\n",
    "    echo \"Warning - Unable to $CURL $OPENDSTAR/G2/rp2c utility\"\n",
    "else\n",
    "    chmod 755 $TOOLS/rp2c\n",
    "    echo `date` \"Please confirm your rp2c configuration is correct\" | tee -a $LOGF\n",
    "    $TOOLS/rp2c -a -i $ZR_IP 2>/dev/null | tee -a $LOGF\n",
    "fi\n",
    "```\n",
    "\n",
    "Running this program manually indicates that the controller is not responding. It is unclear if the new ID-R4010V repeater is responding to the same commands as the old controller.\n"
   ]
  },
  {
   "cell_type": "markdown",
   "id": "b7cf4f82",
   "metadata": {},
   "source": [
    "Now the script installs the gateway **gpg** **rpm** file:\n",
    "\n",
    "```{shell}\n",
    "#\n",
    "# Install the ICOM Software\n",
    "#\n",
    "\n",
    "if [ \"$RECONFIG\" != \"true\" ]; then\n",
    "\n",
    "    echo `date` Installing ICOM G3 Gateway Software | tee -a $LOGF\n",
    "\n",
    "    echo `date` Installing $GWGPG | tee -a $LOGF\n",
    "    /bin/rpm --force -ivh $GWGPG >> $LOGF 2>&1\n",
    "   \n",
    "    if [ \"$?\" != \"0\" ]; then\n",
    "\techo \"Error installing $GWGPG, check $LOGF for more information\" | tee -a $LOGF\n",
    "\texit\n",
    "    fi\n",
    "# \n",
    "# Now remove the package, leaving the ICOM GPG key\n",
    "#\n",
    "    GWGPG_RPM=`echo $GWGPG | sed s/.rpm//`\n",
    "\n",
    "    echo `date` \"Removing $GWGPG_RPM ... \" | tee -a $LOGF\n",
    "    /bin/rpm -e $GWGPG_RPM >> $LOGF 2>&1\n",
    "\n",
    "\n",
    "```"
   ]
  },
  {
   "cell_type": "markdown",
   "id": "b78e2c40",
   "metadata": {},
   "source": [
    "The Postgres database program is installed next:\n",
    "    \n",
    "```{shell}\n",
    "#\n",
    "# Install Posgres\n",
    "#\n",
    "    echo `date` \"Installing Postgres\" | tee -a $LOGF\n",
    "\n",
    "    yum -y localinstall $PG_URL >> $LOGF 2>&1\n",
    "\tif [ \"$?\" != \"0\" ]; then\n",
    "\t    echo \"Error installing Postgres, check $LOGF for more information\" | tee -a $LOGF\n",
    "\t    exit\n",
    "\tfi\n",
    "```"
   ]
  },
  {
   "cell_type": "markdown",
   "id": "897e4602",
   "metadata": {},
   "source": [
    "Finally, the actual G3 software is installed:\n",
    "    \n",
    "```{shell}\n",
    "#\n",
    "# Install G3 RPM\n",
    "#\n",
    "    echo `date` \"Installing $GW3RPM (this can take up to 5 minutes)\"  | tee -a $LOGF\n",
    "    /bin/yum -y localinstall $GW3RPM >> $LOGF 2>&1 \n",
    "    \n",
    "    if [ \"$?\" != \"0\" ]; then\n",
    "\techo \"Error installing $GW3RPM, check $LOGF for more information\" | tee -a $LOGF\n",
    "\texit\n",
    "    fi\n",
    "fi\n",
    "```"
   ]
  },
  {
   "cell_type": "markdown",
   "id": "66d14ec6",
   "metadata": {},
   "source": [
    "The repeater call sign is installed in **dsipsvd.conf**\n",
    "\n",
    "```{shell}\n",
    "#\n",
    "# Update ZR_CALLSIGN in dsipsvd.conf\n",
    "# \n",
    "CUR_ZR_CALLSIGN=$(key_val ZR_CALLSIGN $DSICONF)\n",
    "ZR_CALLSIGN=\"\"\n",
    "\n",
    "while [ -z $ZR_CALLSIGN ]; do\n",
    "    echo \n",
    "    echo -n \"Please enter gateway callsign, e.g. AB9CDE (enter Q to quit): [$CUR_ZR_CALLSIGN] \" | tee -a $LOGF\n",
    "    read ZR_CALLSIGN\n",
    "    echo | tee -a $LOGF\n",
    "\n",
    "    if [ \"$ZR_CALLSIGN\" == \"Q\" ] || [ \"$ZR_CALLSIGN\" == \"q\" ]; then\n",
    "        exit\n",
    "    elif [ -z $ZR_CALLSIGN ] && [ ! -z $CUR_ZR_CALLSIGN ]; then\n",
    "        ZR_CALLSIGN=$CUR_ZR_CALLSIGN\n",
    "    elif [ -z $ZR_CALLSIGN ]; then\n",
    "        echo | tee -a $LOGF\n",
    "        echo \" Gateway Call Sign MUST be specified!\" | tee -a $LOGF\n",
    "    fi\n",
    "done\n",
    "\n",
    "```\n",
    "\n",
    "The script keeps asking until the call sign is entered, or \"Q\", which stops the script\n",
    "\n",
    "```{shell}\n",
    "ZR_CALLSIGN=`echo $ZR_CALLSIGN | tr [a-z] [A-Z]`\n",
    "echo `date` \"Setting ZR_CALLSIGN = $ZR_CALLSIGN in $DSICONF\" | tee -a $LOGF\n",
    "/bin/sed -i -e \"s/^ZR_CALLSIGN.*=.*/ZR_CALLSIGN=$ZR_CALLSIGN/\" $DSICONF\n",
    "```"
   ]
  },
  {
   "cell_type": "markdown",
   "id": "892beb83",
   "metadata": {},
   "source": [
    "The trust server is configured into the **dsipsvd.conf** file:\n",
    "    \n",
    "```{shell}\n",
    "#\n",
    "# Configure TRUST_SERVER in dsipsvd.conf\n",
    "# \n",
    "\n",
    "TRUST_SERVER=$(key_val TRUST_SERVER $DSICONF)\n",
    "TRUST_SERVER=`echo $TRUST_SERVER | tr [A-Z] [a-z]` | tee -a $LOGF\n",
    "\n",
    "if [ \"$TRUST_SERVER\" != \"$ROOTG3\" ]; then\n",
    "    echo `date` \"Setting TRUST_SERVER = $ROOTG3 in $DSICONF\" | tee -a $LOGF\n",
    "    /bin/sed -i -e \"s/^TRUST_SERVER.*=.*/TRUST_SERVER=$ROOTG3/\" $DSICONF\n",
    "else\n",
    "    echo `date` \"Valid TRUST_SERVER: $TRUST_SERVER\" | tee -a $LOGF\n",
    "fi\n",
    "```"
   ]
  },
  {
   "cell_type": "markdown",
   "id": "658607f2",
   "metadata": {},
   "source": [
    "```{shell}\n",
    "#\n",
    "# update dsgwd.conf\n",
    "#\n",
    "/bin/ping -c 2 $GW_IP >> $LOGF 2>&1\n",
    "if [ \"$?\" != \"0\" ]; then\n",
    "    echo \"Network interface at $GW_IP appears to be down, Aborting Installation!\" | tee -a $LOGF\n",
    "    exit\n",
    "fi\n",
    "\n",
    "GW_ETHIFNAME=`/usr/sbin/ip neigh | grep $GW_IP | head -1 | awk '{print $3}'`\n",
    "GW_IFCFG=$(key_val GW_ETHIFNAME $DSGWDCONF)\n",
    "\n",
    "if [ \"$GW_IFCFG\" != \"$GW_ETHIFNAME\" ]; then\n",
    "    echo `date` \"Setting GW_ETHIFNAME=$GW_ETHIFNAME\" | tee -a $LOGF\n",
    "    /bin/sed -i -e \"s/^GW_ETHIFNAME.*=.*/GW_ETHIFNAME=$GW_ETHIFNAME/\" $DSGWDCONF\n",
    "else\n",
    "    echo `date` \"Valid GW_ETHINFNAME: $GW_IFCFG\" | tee -a $LOGF\n",
    "fi\n",
    "\n",
    "ZR_ADDR=$(key_val ZR_ADDR $DSGWDCONF)\n",
    "\n",
    "if [ \"$ZR_ADDR\" != \"$ZR_IP\" ]; then\n",
    "    echo `date` \"Setting ZR_ADDR = $ZR_IP in $DSGWDCONF\" | tee -a $LOGF\n",
    "    /bin/sed -i -e \"s/^ZR_ADDR.*=.*/ZR_ADDR=$ZR_IP/\" $DSGWDCONF\n",
    "else\n",
    "    echo `date` \"Valid ZR_ADDR: $ZR_ADDR\" | tee -a $LOGF\n",
    "fi\n",
    "\n",
    "DNS_ADDR=$(key_val DNS_ADDR $DSGWDCONF)\n",
    "\n",
    "if [ \"$DNS_ADDR\" != \"$GW_IP\" ]; then\n",
    "    echo `date` \"Setting DNS_ADDR = $GW_IP in $DSGWDCONF\" | tee -a $LOGF\n",
    "    /bin/sed -i -e \"s/DNS_ADDR.*=.*/DNS_ADDR=$GW_IP/\" $DSGWDCONF\n",
    "else\n",
    "    echo `date` \"Valid DNS_ADDR: $DNS_ADDR\" | tee -a $LOGF\n",
    "fi\n",
    "```"
   ]
  },
  {
   "cell_type": "markdown",
   "id": "03fec82b",
   "metadata": {},
   "source": [
    "```{shell}\n",
    "# DNS_MAC in dsgwd.conf\n",
    "#\n",
    "\n",
    "DNS_MAC=$(key_val DNS_MAC $DSGWDCONF)\n",
    "\n",
    "ARP_ENTRY=`/sbin/ip neigh | grep $GW_IP | head -1 | awk '{print $5}' | sed s/:/-/g`\n",
    "LEN=${#ARP_ENTRY}\n",
    "\n",
    "if [ -z $ARP_ENTRY ] || [ \"$LEN\" != \"17\" ]; then\n",
    "    echo `date` \"Unable to determine MAC address for $GW_IP, aborting!\" | tee -a $LOGF\n",
    "    exit\n",
    "fi\n",
    "\n",
    "if [ \"$DNS_MAC\" != \"$ARP_ENTRY\" ]; then\n",
    "    echo `date` \"Setting DNS_MAC = $ARP_ENTRY in $DSGWDCONF\" | tee -a $LOGF\n",
    "    /bin/sed -i -e \"s/DNS_MAC.*=.*/DNS_MAC=$ARP_ENTRY/\" $DSGWDCONF\n",
    "else\n",
    "    echo `date` \"Valid DNS_MAC: $DNS_MAC = $ARP_ENTRY\" | tee -a $LOGF\n",
    "fi\n",
    "```"
   ]
  },
  {
   "cell_type": "markdown",
   "id": "ace188ef",
   "metadata": {},
   "source": [
    "```{shell}\n",
    "#\n",
    "# ZR_CALLSIGN in dsgwd.conf\n",
    "# \n",
    "echo `date` \"Setting DSGWD ZR_CALLSIGN = $ZR_CALLSIGN in $DSGWDCONF\" | tee -a $LOGF\n",
    "/bin/sed -i -e \"s/^ZR_CALLSIGN.*=.*/ZR_CALLSIGN=$ZR_CALLSIGN/\" $DSGWDCONF\n",
    "```"
   ]
  },
  {
   "cell_type": "markdown",
   "id": "7a8a164e",
   "metadata": {},
   "source": [
    "```{shell}\n",
    "#\n",
    "# Install gateway scheduler script\n",
    "#\n",
    "\n",
    "echo `date` \"Installing gw_schedule and updater scripts\" | tee -a $LOGF\n",
    "mkdir -p $SCR_PATH\n",
    "\n",
    "$CURL $DSYNC/$SCHED > $SCR_PATH/$SCHED 2>/dev/null\n",
    "chmod 755 $SCR_PATH/$SCHED\n",
    "\n",
    "$CURL $DSYNC/$UPDATER > $SCR_PATH/$UPDATER 2>/dev/null\n",
    "chmod 755 $SCR_PATH/$UPDATER\n",
    "```\n"
   ]
  },
  {
   "cell_type": "markdown",
   "id": "7c13f6a0",
   "metadata": {},
   "source": [
    "```{shell}\n",
    "#\n",
    "# Install new crontab\n",
    "#\n",
    "echo `date` \"Installing DSync crontab\" | tee -a $LOGF\n",
    "$CURL $DSYNC/g310_dsync_crontab > /etc/cron.d/dsync 2>/dev/null\n",
    "```"
   ]
  },
  {
   "cell_type": "markdown",
   "id": "0ac4d753",
   "metadata": {},
   "source": [
    "```{shell}\n",
    "# \n",
    "# Import unsync_user_mng table from backup only if it contains zero records\n",
    "#\n",
    "\n",
    "MNG_COUNT=`/bin/psql -U dstar dstar_global -c 'select count(*) from unsync_user_mng;'|grep -v 'count\\|-\\|row'`\n",
    "\n",
    "if [ $MNG_COUNT == 0 ]; then\n",
    "    echo `date` \"MNG Table is empty, data will be restored from backup or initialized using the add_user_mng script from ICOM\" | tee -a $LOGF\n",
    "\n",
    "    if [ $NO_BACKUP == 0 ]; then\n",
    "\techo `date` \"Extracting unsync_user_mng data from backup file\" | tee -a $LOGF\n",
    "\t/bin/tar -xzvf $BACKUP /dstar/backups >> $LOGF 2>&1\n",
    "\tUNSYNC_USER_MNG=`ls dstar/backups/unsync_user_mng*`\n",
    "\n",
    "\tif [ -f $UNSYNC_USER_MNG ]; then\n",
    "\t    echo `date` \"unsync_user_mng table data found, loading into database...\" | tee -a $LOGF\n",
    "\t    cp -f $UNSYNC_USER_MNG /tmp/unsync_user_mng\n",
    "\n",
    "cat << EOS | psql -U dstar dstar_global | tee -a $LOGF\n",
    "  TRUNCATE unsync_user_mng;\n",
    "  VACUUM unsync_user_mng;\n",
    "  COPY unsync_user_mng FROM '/tmp/unsync_user_mng' DELIMITER ',';\n",
    "  \\q\n",
    "EOS\n",
    "\telse\n",
    "\t    echo `date` \"unsync_user_mng table data not found!\" | tee -a $LOGF\n",
    "\tfi\n",
    "    fi\n",
    "fi\n",
    "\n",
    "MNG_COUNT=`/bin/psql -U dstar dstar_global -c 'select count(*) from unsync_user_mng;'|grep -v 'count\\|-\\|row'`\n",
    "if [ $MNG_COUNT == 0 ]; then\n",
    "    echo `date` \"Assuming this is a new gateway installation, running add_user_mng.sh script to set up GW Administrator entry\" | tee -a $LOGF\n",
    "    /bin/bash $DSTARGW/dsipsvd/add_user_mng.sh  | tee -a $LOGF\n",
    "else \n",
    "    echo `date` \"$MNG_COUNT records found in MNG table\" | tee -a $LOGF\n",
    "fi\n",
    "```\n"
   ]
  },
  {
   "cell_type": "markdown",
   "id": "98e78f32",
   "metadata": {},
   "source": [
    "```{shell}\n",
    "#\n",
    "# Install dplus\n",
    "#\n",
    "\n",
    "echo `date` \"Installing dplus  \" | tee -a $LOGF\n",
    "\n",
    "# create dv audio directory\n",
    "mkdir -p /dstar/dv\n",
    "\n",
    "# Download / run dplus installer\n",
    "$CURL -O $OPENDSTAR/G2/dplus-install-g2.sh >> $LOGF 2>&1\n",
    "/bin/bash ./dplus-install-g2.sh >> $LOGF 2>&1\n",
    "\n",
    "# \n",
    "# Update dplus interfaces\n",
    "#\n",
    "echo `date` \"Setting dplus external ethernet = $GW_ETHIFNAME in $DPLUSCONF\" | tee -a $LOGF\n",
    "/bin/sed -i -e \"s/^externalethernet.*=.*/externalethernet=$GW_ETHIFNAME/\" $DPLUSCONF\n",
    "\n",
    "ZR_ETHIFNAME=`ip neigh | grep $ZR_IP | head -1 | awk '{print $3}'`\n",
    "\n",
    "echo `date` \"Setting dplus internal ethernet = $ZR_ETHIFNAME in $DPLUSCONF\" | tee -a $LOGF\n",
    "/bin/sed -i -e \"s/^internalethernet.*=.*/internalethernet=$ZR_ETHIFNAME/\" $DPLUSCONF\n",
    "```"
   ]
  },
  {
   "cell_type": "markdown",
   "id": "60040145",
   "metadata": {},
   "source": [
    "```{shell}\n",
    "#\n",
    "# Install AA4RC Tools\n",
    "#\n",
    "echo `date` \"Installing AA4RC dstar utilities into /dstar/tools ...\" | tee -a $LOGF\n",
    "UTILLIST=$OPENDSTAR/G2/utillist\n",
    "UTILS=`curl $UTILLIST 2>/dev/null`\n",
    "cd /dstar/tools\n",
    "\n",
    "for TOOL in $UTILS; do\n",
    "   echo `date` \"Downloading: $TOOL\" | tee -a $LOGF\n",
    "   curl -O $OPENDSTAR/G2/$TOOL 2>/dev/null\n",
    "   chmod 755 $TOOL\n",
    "done\n",
    "```"
   ]
  },
  {
   "cell_type": "markdown",
   "id": "9b664e00",
   "metadata": {},
   "source": [
    "```{shell}\n",
    "#\n",
    "# Install dstargateway.org certificate\n",
    "#\n",
    "echo `date` \"Installing certificate for dstargateway.org\" | tee -a $LOGF\n",
    "\n",
    "cd /tmp\n",
    "$CURL -O $OPENDSTAR/../.admins/.certs/dsgw-cert-install-G3.tgz 2>> $LOGF | tee -a $LOGF\n",
    "if [ ! -f /etc/pki/tls/certs/dstargateway.org.crt ] ; then\n",
    "    cp /etc/pki/tls/certs/localhost.crt /etc/pki/tls/certs/localhost.crt.pre-dstar\n",
    "    cp /etc/pki/tls/private/localhost.key /etc/pki/tls/private/localhost.key.pre-dstar\n",
    "fi\n",
    "cd /etc/pki/tls\n",
    "tar xzf /tmp/dsgw-cert-install-G3.tgz\n",
    "cp /etc/pki/tls/certs/dstargateway.org.crt /etc/pki/tls/certs/localhost.crt\n",
    "cp /etc/pki/tls/private/dstargatewayorg.key /etc/pki/tls/private/localhost.key\n",
    "```"
   ]
  },
  {
   "cell_type": "markdown",
   "id": "d94e0ace",
   "metadata": {},
   "source": [
    "```{shell}\n",
    "# \n",
    "# Install AE5PLs DstarMonitor Application \n",
    "#\n",
    "\n",
    "cd /tmp\n",
    "\n",
    "if [ -d $DSM_DIR ]; then\n",
    "    echo `date` \"Moving $DSM_DIR to $DSM_BAK ... \" | tee -a $LOGF\n",
    "    mv $DSM_DIR $DSM_BAK\n",
    "fi\n",
    "\n",
    "mkdir -p $DSM_DIR\n",
    "\n",
    "if [ \"$RECONFIG\" == \"true\" ]; then\n",
    "    echo `date` \"Using $DSM_PROP from $DSM_BAK\" | tee -a $LOGF\n",
    "    cp -p $DSM_BAK/$DSM_PROP $DSM_DIR/.\n",
    "else\n",
    "    cd /tmp\n",
    "    mv -f opt opt.prev >> $LOGF 2>&1\n",
    "    /bin/tar -xzf $BACKUP $DSM_CONF >> $LOGF 2>&1\n",
    "    if [ \"$?\" == \"0\" ]; then\n",
    "\techo `date` \"Copying G2 $DSM_PROP to $DSM_CONF\" | tee -a $LOGF\n",
    "\tcp -p opt/dstarmon/$DSM_PROP $DSM_CONF\n",
    "    else\n",
    "\techo `date` \"$DSM_PROP not found in backup, manual installation required\" | tee -a $LOGF\n",
    "\t$CURL -O $DSYNC/G3/dsm_configurator >> $LOGF 2>&1\n",
    "\t$CURL $DSYNC/G3/dsm.template > $DSM_CONF 2>> $LOGF\n",
    "\t/bin/bash ./dsm_configurator\n",
    "    fi\n",
    "fi\n",
    "\n",
    "echo `date` \"Downloading DstarMonitor distribution ...\" | tee -a $LOGF\n",
    "curl -O $DSYNC/$DSMTAR 2>/dev/null\n",
    "\n",
    "if [ \"$?\" != \"0\" ]; then\n",
    "    echo \"Failure downloading $DSMTAR\" | tee -a $LOGF\n",
    "fi\n",
    "\n",
    "tar -xzvf /tmp/$DSMTAR -C $DSM_DIR >> $LOGF 2>&1\n",
    "\n",
    "if [ -f $DSM_CONF ]; then\n",
    "\n",
    "    echo `date` \"Updating GWIntf to $ZR_ETHIFNAME\" | tee -a $LOGF\n",
    "    /bin/sed -i -e \"s/^GWIntf.*=.*/GWIntf=$ZR_ETHIFNAME/\" $DSM_CONF\n",
    "\n",
    "    echo `date` \"Updating CtrlrIP to $ZR_IP\" | tee -a $LOGF\n",
    "    /bin/sed -i -e \"s/^CtrlrIP.*=.*/CtrlrIP=$ZR_IP/\" $DSM_CONF\n",
    "\n",
    "    echo `date` \"Updating Callsign to $ZR_CALLSIGN\" | tee -a $LOGF\n",
    "    /bin/sed -i -e \"s/^callsign.*=.*/callsign=$ZR_CALLSIGN/\" $DSM_CONF\n",
    "\n",
    "    echo `date` \"Installing dsm4_init script... \" | tee -a $LOGF\n",
    "    $CURL $DSYNC/$DSM_INIT > /etc/init.d/dsm 2>/dev/null\n",
    "    /bin/chmod 755 /etc/init.d/dsm\n",
    "    /sbin/chkconfig --add dsm\n",
    "\n",
    "    echo `date` \"DStarMonitor Installation Complete\" | tee -a $LOGF\n",
    "else\n",
    "    echo `date` \"No $DSM_PROP configuration found, manual installation required\" | tee -a $LOGF\n",
    "    $CURL -O $DSYNC/G3/dsm_configurator >> $LOGF 2>&1\n",
    "    $CURL $DSYNC/G3/dsm.template > $DSM_CONF 2>> $LOGF\n",
    "    /bin/bash ./dsm_configurator\n",
    "fi\n",
    "```"
   ]
  }
 ],
 "metadata": {
  "kernelspec": {
   "display_name": "Python 3 (ipykernel)",
   "language": "python",
   "name": "python3"
  },
  "language_info": {
   "codemirror_mode": {
    "name": "ipython",
    "version": 3
   },
   "file_extension": ".py",
   "mimetype": "text/x-python",
   "name": "python",
   "nbconvert_exporter": "python",
   "pygments_lexer": "ipython3",
   "version": "3.10.8"
  },
  "toc": {
   "base_numbering": 1,
   "nav_menu": {},
   "number_sections": true,
   "sideBar": true,
   "skip_h1_title": false,
   "title_cell": "Table of Contents",
   "title_sidebar": "Contents",
   "toc_cell": false,
   "toc_position": {},
   "toc_section_display": true,
   "toc_window_display": false
  },
  "varInspector": {
   "cols": {
    "lenName": 16,
    "lenType": 16,
    "lenVar": 40
   },
   "kernels_config": {
    "python": {
     "delete_cmd_postfix": "",
     "delete_cmd_prefix": "del ",
     "library": "var_list.py",
     "varRefreshCmd": "print(var_dic_list())"
    },
    "r": {
     "delete_cmd_postfix": ") ",
     "delete_cmd_prefix": "rm(",
     "library": "var_list.r",
     "varRefreshCmd": "cat(var_dic_list()) "
    }
   },
   "types_to_exclude": [
    "module",
    "function",
    "builtin_function_or_method",
    "instance",
    "_Feature"
   ],
   "window_display": false
  }
 },
 "nbformat": 4,
 "nbformat_minor": 5
}
