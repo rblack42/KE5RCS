{
 "cells": [
  {
   "cell_type": "markdown",
   "id": "ec5983d7",
   "metadata": {},
   "source": [
    "# D-Star Gateway Health Check"
   ]
  },
  {
   "cell_type": "markdown",
   "id": "0ba4541a",
   "metadata": {},
   "source": [
    "I have managed a number of servers on the Internet as part of my teaching work. For most of thos \\e machines I used *Ansible*, a *Python* application that is commonly used to manage the configuration of servers, often large numbers of servers,, located somewhere \"out there\"!\n",
    "\n",
    "When I first started working with a *D-Star* gateway machine, I immediately ran into the old-fashioned management schemes involving running a variety of hand-crafted shell scripts to do configuration and management tasks. "
   ]
  },
  {
   "cell_type": "markdown",
   "id": "57f93f4d",
   "metadata": {},
   "source": [
    "*Ansible* only requires a recent version of *Python* to be running on the server to be managed, and a working *ssh* access scheme. I set up my gateway user account with my callsign, **n5ujh**, and installed my public ISA key in my user account to enable *SSH* access to the gateway machine.\n",
    "With that in place, *Ansible* can access the remote machine as follows:"
   ]
  },
  {
   "cell_type": "code",
   "execution_count": 1,
   "id": "3437687e",
   "metadata": {},
   "outputs": [
    {
     "name": "stdout",
     "output_type": "stream",
     "text": [
      "\u001b[0;32mke5rcs.dstargateway.org | SUCCESS => {\u001b[0m\r\n",
      "\u001b[0;32m    \"ansible_facts\": {\u001b[0m\r\n",
      "\u001b[0;32m        \"discovered_interpreter_python\": \"/usr/bin/python\"\u001b[0m\r\n",
      "\u001b[0;32m    },\u001b[0m\r\n",
      "\u001b[0;32m    \"changed\": false,\u001b[0m\r\n",
      "\u001b[0;32m    \"ping\": \"pong\"\u001b[0m\r\n",
      "\u001b[0;32m}\u001b[0m\r\n"
     ]
    }
   ],
   "source": [
    "!cd ../../../ansible && ansible all -u n5ujh -m ping"
   ]
  },
  {
   "cell_type": "markdown",
   "id": "73d6879a",
   "metadata": {},
   "source": [
    "That output shows that the server is alive and running.\n",
    "\n",
    "When *Ansibke* connects to a remote server, it gathers a large number of facts about that system. Many of these facts are useful to managers, so let's see what we can deduce about the machine we are running. This next command will gather the facts and save them on the local management machine:"
   ]
  },
  {
   "cell_type": "code",
   "execution_count": 3,
   "id": "fd605524",
   "metadata": {},
   "outputs": [],
   "source": [
    "!cd ../../../ansible && ansible all -u n5ujh -m setup > ke5rcs.facts"
   ]
  },
  {
   "cell_type": "markdown",
   "id": "c960c88a",
   "metadata": {},
   "source": [
    "The saved file is mostly a **json** file that we can process with *Python*. There is one line in this file that needs correcting to render it pure **json**:"
   ]
  },
  {
   "cell_type": "code",
   "execution_count": 5,
   "id": "f0133191",
   "metadata": {},
   "outputs": [
    {
     "name": "stdout",
     "output_type": "stream",
     "text": [
      "ke5rcs.dstargateway.org | SUCCESS => {\n",
      " \n"
     ]
    }
   ],
   "source": [
    "JFILE = \"../../../ansible/ke5rcs.facts\"\n",
    "with open(JFILE,'r') as fin:\n",
    "    raw_data = fin.read()"
   ]
  },
  {
   "cell_type": "code",
   "execution_count": 6,
   "id": "31c394a9",
   "metadata": {},
   "outputs": [
    {
     "data": {
      "text/plain": [
       "37"
      ]
     },
     "execution_count": 6,
     "metadata": {},
     "output_type": "execute_result"
    }
   ],
   "source": [
    "bloc = raw_data.find(\"{\")\n",
    "bloc"
   ]
  },
  {
   "cell_type": "code",
   "execution_count": 8,
   "id": "e5934926",
   "metadata": {},
   "outputs": [],
   "source": [
    "data = raw_data[bloc:]"
   ]
  },
  {
   "cell_type": "code",
   "execution_count": 9,
   "id": "dffd073f",
   "metadata": {},
   "outputs": [],
   "source": [
    "import json\n",
    "\n",
    "jdata = json.loads(data)"
   ]
  },
  {
   "cell_type": "code",
   "execution_count": 20,
   "id": "3cc6a93e",
   "metadata": {},
   "outputs": [
    {
     "data": {
      "text/plain": [
       "dict_keys(['ansible_all_ipv4_addresses', 'ansible_all_ipv6_addresses', 'ansible_apparmor', 'ansible_architecture', 'ansible_bios_date', 'ansible_bios_vendor', 'ansible_bios_version', 'ansible_board_asset_tag', 'ansible_board_name', 'ansible_board_serial', 'ansible_board_vendor', 'ansible_board_version', 'ansible_chassis_asset_tag', 'ansible_chassis_serial', 'ansible_chassis_vendor', 'ansible_chassis_version', 'ansible_cmdline', 'ansible_date_time', 'ansible_default_ipv4', 'ansible_default_ipv6', 'ansible_device_links', 'ansible_devices', 'ansible_distribution', 'ansible_distribution_file_parsed', 'ansible_distribution_file_path', 'ansible_distribution_file_variety', 'ansible_distribution_major_version', 'ansible_distribution_release', 'ansible_distribution_version', 'ansible_dns', 'ansible_domain', 'ansible_effective_group_id', 'ansible_effective_user_id', 'ansible_enp5s0', 'ansible_enp6s0', 'ansible_env', 'ansible_fibre_channel_wwn', 'ansible_fips', 'ansible_form_factor', 'ansible_fqdn', 'ansible_hostname', 'ansible_hostnqn', 'ansible_interfaces', 'ansible_is_chroot', 'ansible_iscsi_iqn', 'ansible_kernel', 'ansible_kernel_version', 'ansible_lo', 'ansible_loadavg', 'ansible_local', 'ansible_lsb', 'ansible_lvm', 'ansible_machine', 'ansible_machine_id', 'ansible_memfree_mb', 'ansible_memory_mb', 'ansible_memtotal_mb', 'ansible_mounts', 'ansible_nodename', 'ansible_os_family', 'ansible_pkg_mgr', 'ansible_proc_cmdline', 'ansible_processor', 'ansible_processor_cores', 'ansible_processor_count', 'ansible_processor_nproc', 'ansible_processor_threads_per_core', 'ansible_processor_vcpus', 'ansible_product_name', 'ansible_product_serial', 'ansible_product_uuid', 'ansible_product_version', 'ansible_python', 'ansible_python_version', 'ansible_real_group_id', 'ansible_real_user_id', 'ansible_selinux', 'ansible_selinux_python_present', 'ansible_service_mgr', 'ansible_ssh_host_key_ecdsa_public', 'ansible_ssh_host_key_ecdsa_public_keytype', 'ansible_ssh_host_key_ed25519_public', 'ansible_ssh_host_key_ed25519_public_keytype', 'ansible_ssh_host_key_rsa_public', 'ansible_ssh_host_key_rsa_public_keytype', 'ansible_swapfree_mb', 'ansible_swaptotal_mb', 'ansible_system', 'ansible_system_capabilities', 'ansible_system_capabilities_enforced', 'ansible_system_vendor', 'ansible_uptime_seconds', 'ansible_user_dir', 'ansible_user_gecos', 'ansible_user_gid', 'ansible_user_id', 'ansible_user_shell', 'ansible_user_uid', 'ansible_userspace_architecture', 'ansible_userspace_bits', 'ansible_virbr0', 'ansible_virbr0_nic', 'ansible_virtualization_role', 'ansible_virtualization_tech_guest', 'ansible_virtualization_tech_host', 'ansible_virtualization_type', 'discovered_interpreter_python', 'gather_subset', 'module_setup'])"
      ]
     },
     "execution_count": 20,
     "metadata": {},
     "output_type": "execute_result"
    }
   ],
   "source": [
    "jdata['ansible_facts'].keys()"
   ]
  },
  {
   "cell_type": "code",
   "execution_count": 39,
   "id": "c53b2ece",
   "metadata": {},
   "outputs": [],
   "source": [
    "af = jdata['ansible_facts']"
   ]
  },
  {
   "cell_type": "code",
   "execution_count": 40,
   "id": "09e4db0d",
   "metadata": {},
   "outputs": [
    {
     "data": {
      "text/plain": [
       "{'date': '2023-01-01',\n",
       " 'day': '01',\n",
       " 'epoch': '1672624649',\n",
       " 'epoch_int': '1672624649',\n",
       " 'hour': '19',\n",
       " 'iso8601': '2023-01-02T01:57:29Z',\n",
       " 'iso8601_basic': '20230101T195729319497',\n",
       " 'iso8601_basic_short': '20230101T195729',\n",
       " 'iso8601_micro': '2023-01-02T01:57:29.319497Z',\n",
       " 'minute': '57',\n",
       " 'month': '01',\n",
       " 'second': '29',\n",
       " 'time': '19:57:29',\n",
       " 'tz': 'CST',\n",
       " 'tz_dst': 'CDT',\n",
       " 'tz_offset': '-0600',\n",
       " 'weekday': 'Sunday',\n",
       " 'weekday_number': '0',\n",
       " 'weeknumber': '00',\n",
       " 'year': '2023'}"
      ]
     },
     "execution_count": 40,
     "metadata": {},
     "output_type": "execute_result"
    }
   ],
   "source": [
    "af['ansible_date_time']"
   ]
  },
  {
   "cell_type": "code",
   "execution_count": 41,
   "id": "cf9d764c",
   "metadata": {},
   "outputs": [
    {
     "data": {
      "text/plain": [
       "'Pentium(R) Dual-Core  CPU      E5300  @ 2.60GHz'"
      ]
     },
     "execution_count": 41,
     "metadata": {},
     "output_type": "execute_result"
    }
   ],
   "source": [
    "af['ansible_processor'][2]"
   ]
  },
  {
   "cell_type": "code",
   "execution_count": 42,
   "id": "abc2a730",
   "metadata": {},
   "outputs": [
    {
     "data": {
      "text/plain": [
       "628072"
      ]
     },
     "execution_count": 42,
     "metadata": {},
     "output_type": "execute_result"
    }
   ],
   "source": [
    "af['ansible_uptime_seconds']"
   ]
  },
  {
   "cell_type": "code",
   "execution_count": 43,
   "id": "bb879bf3",
   "metadata": {},
   "outputs": [
    {
     "data": {
      "text/plain": [
       "3688"
      ]
     },
     "execution_count": 43,
     "metadata": {},
     "output_type": "execute_result"
    }
   ],
   "source": [
    "af['ansible_memtotal_mb']"
   ]
  },
  {
   "cell_type": "code",
   "execution_count": 44,
   "id": "70c285ce",
   "metadata": {},
   "outputs": [
    {
     "data": {
      "text/plain": [
       "['172.16.0.20', '10.0.0.2', '192.168.122.1']"
      ]
     },
     "execution_count": 44,
     "metadata": {},
     "output_type": "execute_result"
    }
   ],
   "source": [
    "af['ansible_all_ipv4_addresses']"
   ]
  },
  {
   "cell_type": "code",
   "execution_count": 45,
   "id": "72df2dbc",
   "metadata": {},
   "outputs": [
    {
     "data": {
      "text/plain": [
       "{'active': True,\n",
       " 'device': 'enp5s0',\n",
       " 'features': {'busy_poll': 'off [fixed]',\n",
       "  'fcoe_mtu': 'off [fixed]',\n",
       "  'generic_receive_offload': 'on',\n",
       "  'generic_segmentation_offload': 'on',\n",
       "  'highdma': 'on',\n",
       "  'hw_tc_offload': 'off [fixed]',\n",
       "  'l2_fwd_offload': 'off [fixed]',\n",
       "  'large_receive_offload': 'off [fixed]',\n",
       "  'loopback': 'off [fixed]',\n",
       "  'netns_local': 'off [fixed]',\n",
       "  'ntuple_filters': 'off [fixed]',\n",
       "  'receive_hashing': 'off [fixed]',\n",
       "  'rx_all': 'off [fixed]',\n",
       "  'rx_checksumming': 'on',\n",
       "  'rx_fcs': 'off [fixed]',\n",
       "  'rx_gro_hw': 'off [fixed]',\n",
       "  'rx_udp_tunnel_port_offload': 'off [fixed]',\n",
       "  'rx_vlan_filter': 'off [fixed]',\n",
       "  'rx_vlan_offload': 'on [fixed]',\n",
       "  'rx_vlan_stag_filter': 'off [fixed]',\n",
       "  'rx_vlan_stag_hw_parse': 'off [fixed]',\n",
       "  'scatter_gather': 'on',\n",
       "  'tcp_segmentation_offload': 'on',\n",
       "  'tx_checksum_fcoe_crc': 'off [fixed]',\n",
       "  'tx_checksum_ip_generic': 'off [fixed]',\n",
       "  'tx_checksum_ipv4': 'on',\n",
       "  'tx_checksum_ipv6': 'on',\n",
       "  'tx_checksum_sctp': 'off [fixed]',\n",
       "  'tx_checksumming': 'on',\n",
       "  'tx_fcoe_segmentation': 'off [fixed]',\n",
       "  'tx_gre_csum_segmentation': 'off [fixed]',\n",
       "  'tx_gre_segmentation': 'off [fixed]',\n",
       "  'tx_gso_partial': 'off [fixed]',\n",
       "  'tx_gso_robust': 'off [fixed]',\n",
       "  'tx_ipip_segmentation': 'off [fixed]',\n",
       "  'tx_lockless': 'off [fixed]',\n",
       "  'tx_nocache_copy': 'off',\n",
       "  'tx_scatter_gather': 'on',\n",
       "  'tx_scatter_gather_fraglist': 'off [fixed]',\n",
       "  'tx_sctp_segmentation': 'off [fixed]',\n",
       "  'tx_sit_segmentation': 'off [fixed]',\n",
       "  'tx_tcp6_segmentation': 'on',\n",
       "  'tx_tcp_ecn_segmentation': 'on',\n",
       "  'tx_tcp_mangleid_segmentation': 'off',\n",
       "  'tx_tcp_segmentation': 'on',\n",
       "  'tx_udp_tnl_csum_segmentation': 'off [fixed]',\n",
       "  'tx_udp_tnl_segmentation': 'off [fixed]',\n",
       "  'tx_vlan_offload': 'on [fixed]',\n",
       "  'tx_vlan_stag_hw_insert': 'off [fixed]',\n",
       "  'udp_fragmentation_offload': 'off [fixed]',\n",
       "  'vlan_challenged': 'off [fixed]'},\n",
       " 'hw_timestamp_filters': ['none',\n",
       "  'ptp_v1_l4_event',\n",
       "  'ptp_v2_l4_event',\n",
       "  'ptp_v2_l2_event'],\n",
       " 'ipv4': {'address': '10.0.0.2',\n",
       "  'broadcast': '10.255.255.255',\n",
       "  'netmask': '255.0.0.0',\n",
       "  'network': '10.0.0.0',\n",
       "  'prefix': '8'},\n",
       " 'ipv6': [{'address': 'fe80::a14d:9bef:edf:750d',\n",
       "   'prefix': '64',\n",
       "   'scope': 'link'}],\n",
       " 'macaddress': '18:03:73:ad:2f:78',\n",
       " 'module': 'tg3',\n",
       " 'mtu': 1500,\n",
       " 'pciid': '0000:05:00.0',\n",
       " 'promisc': True,\n",
       " 'speed': 100,\n",
       " 'timestamping': ['tx_software', 'rx_software', 'software'],\n",
       " 'type': 'ether'}"
      ]
     },
     "execution_count": 45,
     "metadata": {},
     "output_type": "execute_result"
    }
   ],
   "source": [
    "af['ansible_enp5s0']"
   ]
  },
  {
   "cell_type": "code",
   "execution_count": 46,
   "id": "c584bf2c",
   "metadata": {},
   "outputs": [
    {
     "data": {
      "text/plain": [
       "'18:03:73:ad:2f:78'"
      ]
     },
     "execution_count": 46,
     "metadata": {},
     "output_type": "execute_result"
    }
   ],
   "source": [
    "af['ansible_enp5s0']['macaddress']"
   ]
  },
  {
   "cell_type": "code",
   "execution_count": 47,
   "id": "0cdbc161",
   "metadata": {},
   "outputs": [
    {
     "data": {
      "text/plain": [
       "{'address': '10.0.0.2',\n",
       " 'broadcast': '10.255.255.255',\n",
       " 'netmask': '255.0.0.0',\n",
       " 'network': '10.0.0.0',\n",
       " 'prefix': '8'}"
      ]
     },
     "execution_count": 47,
     "metadata": {},
     "output_type": "execute_result"
    }
   ],
   "source": [
    "af['ansible_enp5s0']['ipv4']"
   ]
  },
  {
   "cell_type": "code",
   "execution_count": 31,
   "id": "5b64c5a7",
   "metadata": {},
   "outputs": [
    {
     "data": {
      "text/plain": [
       "{'dm-0': {'holders': [],\n",
       "  'host': '',\n",
       "  'links': {'ids': ['dm-name-centos-root',\n",
       "    'dm-uuid-LVM-i6nC1h2z4wCZoYJadUehKw6XBJg2ql6gUEaJ9q1v0zI6aJegPeG7L1smbzKlXCGy'],\n",
       "   'labels': [],\n",
       "   'masters': [],\n",
       "   'uuids': ['e18708d1-17db-444c-aff2-17fc60534c41']},\n",
       "  'model': None,\n",
       "  'partitions': {},\n",
       "  'removable': '0',\n",
       "  'rotational': '0',\n",
       "  'sas_address': None,\n",
       "  'sas_device_handle': None,\n",
       "  'scheduler_mode': '',\n",
       "  'sectors': '104857600',\n",
       "  'sectorsize': '512',\n",
       "  'size': '50.00 GB',\n",
       "  'support_discard': '512',\n",
       "  'vendor': None,\n",
       "  'virtual': 1},\n",
       " 'dm-1': {'holders': [],\n",
       "  'host': '',\n",
       "  'links': {'ids': ['dm-name-centos-swap',\n",
       "    'dm-uuid-LVM-i6nC1h2z4wCZoYJadUehKw6XBJg2ql6ghUp9QM95HAzXKvnicJaipP2Iqte7H3O5'],\n",
       "   'labels': [],\n",
       "   'masters': [],\n",
       "   'uuids': ['acd940bf-25e7-4604-9056-076cc8c72fb7']},\n",
       "  'model': None,\n",
       "  'partitions': {},\n",
       "  'removable': '0',\n",
       "  'rotational': '0',\n",
       "  'sas_address': None,\n",
       "  'sas_device_handle': None,\n",
       "  'scheduler_mode': '',\n",
       "  'sectors': '8126464',\n",
       "  'sectorsize': '512',\n",
       "  'size': '3.88 GB',\n",
       "  'support_discard': '512',\n",
       "  'vendor': None,\n",
       "  'virtual': 1},\n",
       " 'dm-2': {'holders': [],\n",
       "  'host': '',\n",
       "  'links': {'ids': ['dm-name-centos-home',\n",
       "    'dm-uuid-LVM-i6nC1h2z4wCZoYJadUehKw6XBJg2ql6g4nL30sqAMowPTSm45gM37Mlfq1nCUTet'],\n",
       "   'labels': [],\n",
       "   'masters': [],\n",
       "   'uuids': ['5051a630-7d11-4558-9c3f-0662ae199f51']},\n",
       "  'model': None,\n",
       "  'partitions': {},\n",
       "  'removable': '0',\n",
       "  'rotational': '0',\n",
       "  'sas_address': None,\n",
       "  'sas_device_handle': None,\n",
       "  'scheduler_mode': '',\n",
       "  'sectors': '373301248',\n",
       "  'sectorsize': '512',\n",
       "  'size': '178.00 GB',\n",
       "  'support_discard': '512',\n",
       "  'vendor': None,\n",
       "  'virtual': 1},\n",
       " 'sda': {'holders': [],\n",
       "  'host': 'RAID bus controller: Intel Corporation SATA Controller [RAID mode] (rev 02)',\n",
       "  'links': {'ids': ['ata-Samsung_SSD_850_EVO_250GB_S21NNXBG307250Y',\n",
       "    'wwn-0x5002538d40041956'],\n",
       "   'labels': [],\n",
       "   'masters': [],\n",
       "   'uuids': []},\n",
       "  'model': 'Samsung SSD 850',\n",
       "  'partitions': {'sda1': {'holders': [],\n",
       "    'links': {'ids': ['ata-Samsung_SSD_850_EVO_250GB_S21NNXBG307250Y-part1',\n",
       "      'wwn-0x5002538d40041956-part1'],\n",
       "     'labels': [],\n",
       "     'masters': [],\n",
       "     'uuids': ['f24d8d28-2bc2-4687-b5ed-1da0eff514f6']},\n",
       "    'sectors': '2097152',\n",
       "    'sectorsize': 512,\n",
       "    'size': '1.00 GB',\n",
       "    'start': '2048',\n",
       "    'uuid': 'f24d8d28-2bc2-4687-b5ed-1da0eff514f6'},\n",
       "   'sda2': {'holders': ['centos-root', 'centos-swap', 'centos-home'],\n",
       "    'links': {'ids': ['ata-Samsung_SSD_850_EVO_250GB_S21NNXBG307250Y-part2',\n",
       "      'lvm-pv-uuid-zE2g2m-UsFB-tkET-gRD6-d8Cq-3fc4-pnhIkP',\n",
       "      'wwn-0x5002538d40041956-part2'],\n",
       "     'labels': [],\n",
       "     'masters': ['dm-0', 'dm-1', 'dm-2'],\n",
       "     'uuids': []},\n",
       "    'sectors': '486297600',\n",
       "    'sectorsize': 512,\n",
       "    'size': '231.88 GB',\n",
       "    'start': '2099200',\n",
       "    'uuid': None}},\n",
       "  'removable': '0',\n",
       "  'rotational': '0',\n",
       "  'sas_address': None,\n",
       "  'sas_device_handle': None,\n",
       "  'scheduler_mode': 'deadline',\n",
       "  'sectors': '488397168',\n",
       "  'sectorsize': '512',\n",
       "  'size': '232.89 GB',\n",
       "  'support_discard': '512',\n",
       "  'vendor': 'ATA',\n",
       "  'virtual': 1,\n",
       "  'wwn': '0x5002538d40041956'}}"
      ]
     },
     "execution_count": 31,
     "metadata": {},
     "output_type": "execute_result"
    }
   ],
   "source": [
    "jdata['ansible_facts']['ansible_devices']"
   ]
  },
  {
   "cell_type": "code",
   "execution_count": 48,
   "id": "266feb03",
   "metadata": {},
   "outputs": [
    {
     "data": {
      "text/plain": [
       "['lo', 'enp5s0', 'enp6s0', 'virbr0-nic', 'virbr0']"
      ]
     },
     "execution_count": 48,
     "metadata": {},
     "output_type": "execute_result"
    }
   ],
   "source": [
    "af['ansible_interfaces']"
   ]
  },
  {
   "cell_type": "code",
   "execution_count": 49,
   "id": "879a1a16",
   "metadata": {},
   "outputs": [
    {
     "data": {
      "text/plain": [
       "'CentOS'"
      ]
     },
     "execution_count": 49,
     "metadata": {},
     "output_type": "execute_result"
    }
   ],
   "source": [
    "af['ansible_distribution']"
   ]
  },
  {
   "cell_type": "code",
   "execution_count": 50,
   "id": "7ef37961",
   "metadata": {},
   "outputs": [
    {
     "data": {
      "text/plain": [
       "'7'"
      ]
     },
     "execution_count": 50,
     "metadata": {},
     "output_type": "execute_result"
    }
   ],
   "source": [
    "af['ansible_distribution_major_version']"
   ]
  },
  {
   "cell_type": "code",
   "execution_count": 53,
   "id": "d4edf490",
   "metadata": {},
   "outputs": [
    {
     "data": {
      "text/plain": [
       "'OptiPlex XE'"
      ]
     },
     "execution_count": 53,
     "metadata": {},
     "output_type": "execute_result"
    }
   ],
   "source": [
    "af['ansible_product_name']"
   ]
  },
  {
   "cell_type": "code",
   "execution_count": 54,
   "id": "6c9e5c37",
   "metadata": {},
   "outputs": [
    {
     "data": {
      "text/plain": [
       "'Dell Inc.'"
      ]
     },
     "execution_count": 54,
     "metadata": {},
     "output_type": "execute_result"
    }
   ],
   "source": [
    "af['ansible_system_vendor']"
   ]
  },
  {
   "cell_type": "code",
   "execution_count": null,
   "id": "ad857113",
   "metadata": {},
   "outputs": [],
   "source": []
  }
 ],
 "metadata": {
  "kernelspec": {
   "display_name": "Python 3 (ipykernel)",
   "language": "python",
   "name": "python3"
  },
  "language_info": {
   "codemirror_mode": {
    "name": "ipython",
    "version": 3
   },
   "file_extension": ".py",
   "mimetype": "text/x-python",
   "name": "python",
   "nbconvert_exporter": "python",
   "pygments_lexer": "ipython3",
   "version": "3.10.8"
  },
  "toc": {
   "base_numbering": 1,
   "nav_menu": {},
   "number_sections": true,
   "sideBar": true,
   "skip_h1_title": false,
   "title_cell": "Table of Contents",
   "title_sidebar": "Contents",
   "toc_cell": false,
   "toc_position": {},
   "toc_section_display": true,
   "toc_window_display": false
  },
  "varInspector": {
   "cols": {
    "lenName": 16,
    "lenType": 16,
    "lenVar": 40
   },
   "kernels_config": {
    "python": {
     "delete_cmd_postfix": "",
     "delete_cmd_prefix": "del ",
     "library": "var_list.py",
     "varRefreshCmd": "print(var_dic_list())"
    },
    "r": {
     "delete_cmd_postfix": ") ",
     "delete_cmd_prefix": "rm(",
     "library": "var_list.r",
     "varRefreshCmd": "cat(var_dic_list()) "
    }
   },
   "types_to_exclude": [
    "module",
    "function",
    "builtin_function_or_method",
    "instance",
    "_Feature"
   ],
   "window_display": false
  }
 },
 "nbformat": 4,
 "nbformat_minor": 5
}
