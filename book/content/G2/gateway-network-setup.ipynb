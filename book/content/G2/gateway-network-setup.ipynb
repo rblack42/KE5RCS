{
 "cells": [
  {
   "cell_type": "code",
   "execution_count": null,
   "id": "37c4f64c",
   "metadata": {},
   "outputs": [],
   "source": []
  },
  {
   "cell_type": "markdown",
   "id": "568fc8b1",
   "metadata": {},
   "source": [
    "(gw-network)=\n",
    "# Gateway Network Setup"
   ]
  },
  {
   "cell_type": "code",
   "execution_count": 2,
   "id": "13358596",
   "metadata": {},
   "outputs": [],
   "source": [
    "from IPython.display import Image # to display the images"
   ]
  },
  {
   "cell_type": "markdown",
   "id": "2e80d647",
   "metadata": {},
   "source": [
    "Once the *CentOS* operating system is installed, you will need to configure the network adapters as required for *D-Star* operation. \n",
    "\n",
    "Two adapters are needed on the gateway server. One, **eth0**, connects the gateway to the router and through that to the Internet. The second, **eth1**, is connected to the repeater ID-RP2C Repeater Controller.  This device controls the repeater voice and data radio systems.\n",
    "\n",
    "You can configure the adapters using the server GUI interface, or you can use the command line. I choose the command line as much as possible, since most of my work on servers is done remotely.\n",
    "\n",
    "```{warning}\n",
    "Configuring network adapters remotely is risky business. Mess things up and you will not have access to the server!\n",
    "```"
   ]
  },
  {
   "cell_type": "markdown",
   "id": "099dc679",
   "metadata": {},
   "source": [
    "## Primary Adapter: eth0\n",
    "\n",
    "This adapter is configured with a static IP address:\n",
    "\n",
    "- IP: 10.0.0.2\n",
    "\n",
    "- NetMask: 255.255.255.0\n",
    "\n",
    "- Activate on Boot\n",
    "\n"
   ]
  },
  {
   "cell_type": "markdown",
   "id": "f15430e5",
   "metadata": {},
   "source": [
    "## Secondary Adapter: eth1\n",
    "\n",
    "This adapter is also set with a static IP address:\n",
    "\n",
    "- IP: 176.16.0.20\n",
    "\n",
    "- NetMask: 255.0.0.0\n",
    "\n",
    "- Gateway: 10.0.0.1\n",
    "\n",
    "- Primary DNS: 127.0.0.1\n",
    "\n",
    "- Activate on Boot\n"
   ]
  },
  {
   "cell_type": "markdown",
   "id": "e3376e8c",
   "metadata": {},
   "source": [
    "## Configuring from the Command Line\n",
    "\n",
    "The adapter settings can be configured by editing two scripts from the command line:\n",
    "\n",
    "**/etc/sysconfig/network-scripts/ifcfg-eth0**\n",
    "\n",
    "```text\n",
    "\n",
    "    # VIA Technologies, Inc. VT6105/VT6106S [Rhine-III]\n",
    "    DEVICE=eth0\n",
    "    BOOTPROTO=none\n",
    "    HWADDR=2C:27:D7:32:6A:C3\n",
    "    ONBOOT=yes\n",
    "    DHCP_HOSTNAME=ke5rcs\n",
    "    IPADDR=10.0.0.2\n",
    "    NETMASK=255.255.255.0\n",
    "    GATEWAY=10.0.0.1\n",
    "    TYPE=Ethernet\n",
    "    USERCTL=no\n",
    "    IPV6INIT=no\n",
    "    PEERDNS=yes\n",
    "```\n",
    "\n",
    "**/etc/sysconfig/network-scripts/ifcfg-eth0**\n",
    "\n",
    "```text\n",
    "\n",
    "    # Realtek Semiconductor Co., Ltd. RTL8111/8168B PCI Express Gigabit Ethernet controller\n",
    "    DEVICE=eth1\n",
    "    BOOTPROTO=none\n",
    "    HWADDR=00:21:2F:50:77:4A\n",
    "    ONBOOT=yes\n",
    "    DHCP_HOSTNAME=ke5rcs\n",
    "    TYPE=Ethernet\n",
    "    IPADDR=172.16.0.20\n",
    "    NETMASK=255.0.0.0\n",
    "    USERCTL=no\n",
    "    IPV6INIT=no\n",
    "    PEERDNS=yes\n",
    "```"
   ]
  },
  {
   "cell_type": "code",
   "execution_count": null,
   "id": "77ac442d",
   "metadata": {},
   "outputs": [],
   "source": []
  }
 ],
 "metadata": {
  "kernelspec": {
   "display_name": "Python 3 (ipykernel)",
   "language": "python",
   "name": "python3"
  },
  "language_info": {
   "codemirror_mode": {
    "name": "ipython",
    "version": 3
   },
   "file_extension": ".py",
   "mimetype": "text/x-python",
   "name": "python",
   "nbconvert_exporter": "python",
   "pygments_lexer": "ipython3",
   "version": "3.10.8"
  },
  "toc": {
   "base_numbering": 1,
   "nav_menu": {},
   "number_sections": true,
   "sideBar": true,
   "skip_h1_title": false,
   "title_cell": "Table of Contents",
   "title_sidebar": "Contents",
   "toc_cell": false,
   "toc_position": {},
   "toc_section_display": true,
   "toc_window_display": false
  },
  "varInspector": {
   "cols": {
    "lenName": 16,
    "lenType": 16,
    "lenVar": 40
   },
   "kernels_config": {
    "python": {
     "delete_cmd_postfix": "",
     "delete_cmd_prefix": "del ",
     "library": "var_list.py",
     "varRefreshCmd": "print(var_dic_list())"
    },
    "r": {
     "delete_cmd_postfix": ") ",
     "delete_cmd_prefix": "rm(",
     "library": "var_list.r",
     "varRefreshCmd": "cat(var_dic_list()) "
    }
   },
   "types_to_exclude": [
    "module",
    "function",
    "builtin_function_or_method",
    "instance",
    "_Feature"
   ],
   "window_display": false
  }
 },
 "nbformat": 4,
 "nbformat_minor": 5
}
