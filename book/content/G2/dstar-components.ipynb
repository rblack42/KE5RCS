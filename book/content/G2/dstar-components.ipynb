{
 "cells": [
  {
   "cell_type": "markdown",
   "id": "5ffc377f",
   "metadata": {},
   "source": [
    "# D_Star Repeater Components\n",
    "\n",
    "A *D-Star* repeater normally uses standard Icom components. These components include the following:\n",
    "\n",
    "## D-Star Controller\n",
    "\n",
    "- ID-RP2C\n",
    "\n",
    "## D-Star Radio Modules\n",
    "\n",
    "One or more of the following:\n",
    "\n",
    "- ID-2000V 144MHz Digital Voice repeater\n",
    "\n",
    "- ID-RP4000V 440MHz Digital Voice repeater\n",
    "\n",
    "- ID-RP2V 1.2GHz Digital Voice repeater\n",
    "\n",
    "- ID-RP2D 1.2 GHz Digital Data\n",
    "\n",
    "Here is the basic layout of a *D-Star* repeater, from the Icom setup guide:"
   ]
  },
  {
   "cell_type": "code",
   "execution_count": 1,
   "id": "55b66022",
   "metadata": {},
   "outputs": [],
   "source": [
    "from IPython.display import Image # to display the images"
   ]
  },
  {
   "cell_type": "markdown",
   "id": "945fc14a",
   "metadata": {},
   "source": [
    "![Repeater Setup](../../assets/images/RepeaterSetup.png)"
   ]
  },
  {
   "cell_type": "code",
   "execution_count": null,
   "id": "e17227e9",
   "metadata": {},
   "outputs": [],
   "source": []
  }
 ],
 "metadata": {
  "kernelspec": {
   "display_name": "Python 3 (ipykernel)",
   "language": "python",
   "name": "python3"
  },
  "language_info": {
   "codemirror_mode": {
    "name": "ipython",
    "version": 3
   },
   "file_extension": ".py",
   "mimetype": "text/x-python",
   "name": "python",
   "nbconvert_exporter": "python",
   "pygments_lexer": "ipython3",
   "version": "3.10.6"
  },
  "toc": {
   "base_numbering": 1,
   "nav_menu": {},
   "number_sections": true,
   "sideBar": true,
   "skip_h1_title": false,
   "title_cell": "Table of Contents",
   "title_sidebar": "Contents",
   "toc_cell": false,
   "toc_position": {},
   "toc_section_display": true,
   "toc_window_display": false
  },
  "varInspector": {
   "cols": {
    "lenName": 16,
    "lenType": 16,
    "lenVar": 40
   },
   "kernels_config": {
    "python": {
     "delete_cmd_postfix": "",
     "delete_cmd_prefix": "del ",
     "library": "var_list.py",
     "varRefreshCmd": "print(var_dic_list())"
    },
    "r": {
     "delete_cmd_postfix": ") ",
     "delete_cmd_prefix": "rm(",
     "library": "var_list.r",
     "varRefreshCmd": "cat(var_dic_list()) "
    }
   },
   "types_to_exclude": [
    "module",
    "function",
    "builtin_function_or_method",
    "instance",
    "_Feature"
   ],
   "window_display": false
  }
 },
 "nbformat": 4,
 "nbformat_minor": 5
}
