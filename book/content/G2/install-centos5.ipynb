{
 "cells": [
  {
   "cell_type": "markdown",
   "id": "79220313",
   "metadata": {},
   "source": [
    "(install-centos5)=\n",
    "# Install CentOS 5.11"
   ]
  },
  {
   "cell_type": "code",
   "execution_count": 1,
   "id": "5bdf2134",
   "metadata": {},
   "outputs": [],
   "source": [
    "from IPython.display import Image # to display the images"
   ]
  },
  {
   "cell_type": "markdown",
   "id": "d6591639",
   "metadata": {},
   "source": [
    "Start off by booting the machine with the OS install media installed. You will need to access the BIOS and configure the boot device to match\n",
    "the media you are using. I used a USB DVD drive to set up the gateway servers.\n",
    "\n",
    "```{note}\n",
    "The images shown here were generated while installing the OS in a virtual machine on my laptop. The actual screens you see will be slghtly different.\n",
    "```\n",
    "\n",
    "When the boot process starts, you should see this screen:\n",
    "![Boot Screen](../../assets/images/CentOS1.png)\n",
    "\n",
    "Press \"Enter\" to start the installation:"
   ]
  },
  {
   "cell_type": "markdown",
   "id": "9f13710c",
   "metadata": {},
   "source": [
    "![Media Test](../../assets/images/CentOS2.png)\n",
    "You can check your media if desired. Most of the time, just select \"Skip\" and\n",
    "continue."
   ]
  },
  {
   "cell_type": "markdown",
   "id": "05fbe7f1",
   "metadata": {},
   "source": [
    "![CentOS Banner Page](../../assets/images/CentOS3.png)\n",
    "This is a CentOS banner page. Click on \"Next\" to continue."
   ]
  },
  {
   "cell_type": "markdown",
   "id": "b6beb9fa",
   "metadata": {},
   "source": [
    "![Language Selection Screen](../../assets/images/CentOS4.png)\n",
    "You probably want to use \"English\" as your language. Click \"Next\" after\n",
    "making this choice:"
   ]
  },
  {
   "cell_type": "markdown",
   "id": "ad67418e",
   "metadata": {},
   "source": [
    "![Keyboard Selection Screen](../../assets/images/CentOS5.png)\n",
    "The keyboard should be \"U.S. English\" as well. Click on \"Next\""
   ]
  },
  {
   "cell_type": "markdown",
   "id": "bea00234",
   "metadata": {},
   "source": [
    "![Disk Partition Screen](../../assets/images/CentOS6.png)\n",
    "On this screen, you select the partitioning scheme to use on the primary hard disk on the system. The normal selection is shown. We remove any partitions on the disk and let the installer set up the partitions."
   ]
  },
  {
   "cell_type": "markdown",
   "id": "8c9afa1c",
   "metadata": {},
   "source": [
    "![Disk Partition Warning Screen](../../assets/images/CentOS7.png)\n",
    "This is a warning, confirming the partitioning choice. Click on \"Yes\" to\n",
    "continue."
   ]
  },
  {
   "cell_type": "markdown",
   "id": "603c065c",
   "metadata": {},
   "source": [
    "The next screen will let you configure the network adapters. There should be two network devices present. If testing with the VM, you need to activate the second adapter before booting the system.\n",
    "\n",
    "You will click on the \"Edit\" control for each adapter to configure them. Make sure the \"Activate on Boot\" check box is selected for both adapters."
   ]
  },
  {
   "cell_type": "markdown",
   "id": "5081e001",
   "metadata": {},
   "source": [
    "![Disk Partition Warning Screen](../../assets/images/CentOS8.png)"
   ]
  },
  {
   "cell_type": "markdown",
   "id": "01a4b7fc",
   "metadata": {},
   "source": [
    "The primary adapter (``en0``) needs to be configured with a static IP address of 10.0.0.1, and a netmask of 255.0.0.0. Enter /8 in the \"Prefix\" field as shown here."
   ]
  },
  {
   "cell_type": "markdown",
   "id": "067c1232",
   "metadata": {},
   "source": [
    "![Disk Partition Warning Screen](../../assets/images/CentOS9.png)"
   ]
  },
  {
   "cell_type": "markdown",
   "id": "77190451",
   "metadata": {},
   "source": [
    "The secondary adapter (``en1``) is also set with a static IP. The address here is 176.16.0.20, and the prefix is \"/8\".\n",
    "\n",
    "Note that I disabled IPv6 support on both adapters."
   ]
  },
  {
   "cell_type": "markdown",
   "id": "a53a6368",
   "metadata": {},
   "source": [
    "![Disk Partition Warning Screen](../../assets/images/CentOS10.png)"
   ]
  },
  {
   "cell_type": "markdown",
   "id": "59a15bd9",
   "metadata": {},
   "source": [
    "On this screen, we configure the IP address of the gateway on this network. This will be the IP address of the router, which needs to be set to 10.0.0.1. The primary DNS entry should be 127.0.0.1 since we will be running a name service on the gateway server."
   ]
  },
  {
   "cell_type": "markdown",
   "id": "2a495896",
   "metadata": {},
   "source": [
    "![Disk Partition Warning Screen](../../assets/images/CentOS11.png)"
   ]
  },
  {
   "cell_type": "markdown",
   "id": "c224bd76",
   "metadata": {},
   "source": [
    "Next, we set the appropriate time zone. For Texas this should be\n",
    "\"America/Chicago\"."
   ]
  },
  {
   "cell_type": "markdown",
   "id": "ba30b6e8",
   "metadata": {},
   "source": [
    "![Disk Partition Warning Screen](../../assets/images/CentOS12.png)"
   ]
  },
  {
   "cell_type": "markdown",
   "id": "d6e08bfd",
   "metadata": {},
   "source": [
    "You will need to set a root password for the server. In normal use, this\n",
    "account should not be used, so keep this password private. Administrators\n",
    "should be set up with ``sudo`` access, and use their personal accounts to work on the server."
   ]
  },
  {
   "cell_type": "markdown",
   "id": "78d94adc",
   "metadata": {},
   "source": [
    "![Disk Partition Warning Screen](../../assets/images/CentOS13.png)"
   ]
  },
  {
   "cell_type": "markdown",
   "id": "ae82d2c7",
   "metadata": {},
   "source": [
    "On this screen, we start installing the default software. Since the gateway system is going to be a server, I selected the \"Server\" check boxes here. At the repeater site, the GUI interface will be available. Off site, administrators will access the server using a terminal interface.\n",
    "\n",
    "Select \"Customize now\" so we can add a few packages."
   ]
  },
  {
   "cell_type": "markdown",
   "id": "20585fb3",
   "metadata": {},
   "source": [
    "![Disk Partition Warning Screen](../../assets/images/CentOS14.png)"
   ]
  },
  {
   "cell_type": "markdown",
   "id": "30974286",
   "metadata": {},
   "source": [
    "For now, all we need to install is the `DNS Name Server` found under the\n",
    "\"Servers\" menu. All other software is installed using the ICOM DVD.\n"
   ]
  },
  {
   "cell_type": "markdown",
   "id": "e83c3e75",
   "metadata": {},
   "source": [
    "![Disk Partition Warning Screen](../../assets/images/CentOS15.png)"
   ]
  },
  {
   "cell_type": "markdown",
   "id": "7f518165",
   "metadata": {},
   "source": [
    "After the default software is installed, the basic OS installation is complete. The system needs to be rebooted at this point to finalize the initial setup. \n",
    "\n",
    "Make sure to remove the DVD and set the server to boot normally from the primary hard disk."
   ]
  },
  {
   "cell_type": "markdown",
   "id": "fe9f9aaa",
   "metadata": {},
   "source": [
    "![Disk Partition Warning Screen](../../assets/images/CentOS16.png)"
   ]
  },
  {
   "cell_type": "markdown",
   "id": "96637309",
   "metadata": {},
   "source": [
    "Say \"hello\" to the new OS. Click on \"Forward\" to continue."
   ]
  },
  {
   "cell_type": "markdown",
   "id": "55bc6ca3",
   "metadata": {},
   "source": [
    "![Disk Partition Warning Screen](../../assets/images/CentOS17.png)"
   ]
  },
  {
   "cell_type": "markdown",
   "id": "0a44702b",
   "metadata": {},
   "source": [
    "We need to configure the Firewall to allow controlled access to and from the server.\n",
    "\n",
    "On the first part of this screen, we need to allow SSH and HTTPS. Under \"Other Ports\" you need to configure three additional ports:\n",
    "\n",
    "- 20005 (TCP)\n",
    "\n",
    "- 40000 (UDP)\n",
    "\n",
    "- 40001 (TCP)\n",
    "\n",
    "Click \"Forward\" to continue"
   ]
  },
  {
   "cell_type": "markdown",
   "id": "d1acbfcb",
   "metadata": {},
   "source": [
    "![Disk Partition Warning Screen](../../assets/images/CentOS18.png)"
   ]
  },
  {
   "cell_type": "markdown",
   "id": "5466123f",
   "metadata": {},
   "source": [
    "This popup is a warning that you are about to activate the Firewall with new settings. Click \"Yes\" to move on."
   ]
  },
  {
   "cell_type": "markdown",
   "id": "8707ec3e",
   "metadata": {},
   "source": [
    "![Disk Partition Warning Screen](../../assets/images/CentOS19.png)"
   ]
  },
  {
   "cell_type": "markdown",
   "id": "7fdf7bae",
   "metadata": {},
   "source": [
    "This screen tells you the Firewall is going to be activated. Click \"Forward\" to continue."
   ]
  },
  {
   "cell_type": "markdown",
   "id": "31518812",
   "metadata": {},
   "source": [
    "![Disk Partition Warning Screen](../../assets/images/CentOS20.png)"
   ]
  },
  {
   "cell_type": "markdown",
   "id": "883c119b",
   "metadata": {},
   "source": [
    "On this screen, we set the system clock. We will add NTP support later to keep this accurate."
   ]
  },
  {
   "cell_type": "markdown",
   "id": "a5a9c5f8",
   "metadata": {},
   "source": [
    "![Disk Partition Warning Screen](../../assets/images/CentOS21.png)"
   ]
  },
  {
   "cell_type": "markdown",
   "id": "700b9517",
   "metadata": {},
   "source": [
    "Finally, the system offers an opportunity to add a new user. I use this screen to enter my personal credentials, which I will use as an administrator. Later I will add this new user to the list of users with ``sudo`` permissions. Click \"Create Account\" to set up a user."
   ]
  },
  {
   "cell_type": "markdown",
   "id": "01ef28ee",
   "metadata": {},
   "source": [
    "![Disk Partition Warning Screen](../../assets/images/CentOS22.png)"
   ]
  },
  {
   "cell_type": "markdown",
   "id": "ff3293d4",
   "metadata": {},
   "source": [
    "Enter the user name. On D-Start servers, administrator accounts should probably use Amateur Radio call signs as user names."
   ]
  },
  {
   "cell_type": "markdown",
   "id": "b4c36b13",
   "metadata": {},
   "source": [
    "![Disk Partition Warning Screen](../../assets/images/CentOS23.png)"
   ]
  },
  {
   "cell_type": "markdown",
   "id": "575a920a",
   "metadata": {},
   "source": [
    "This completes the installation. At this point, the system will let you log in normally. I used my new user account and got to this screen. The first thing I do here is add the \"Terminal\" icon to the screen. You can do this by clicking on \"Applications/Utilities\". Do not click on the \"Terminal\" icon, instead, click and drag the icon to the desktop. This is the normal display I see when working directly on the gateway servers."
   ]
  },
  {
   "cell_type": "markdown",
   "id": "7d30871c",
   "metadata": {},
   "source": [
    "### Final Steps\n",
    "\n",
    "Before ending this process, check that you can access the server using SSH.\n",
    "\n",
    "```{bash}\n",
    "$ ssh n5ujh@10.0.1.204\n",
    "```\n",
    "\n",
    "The first time you do this, you will be asked if you trust this server. Say \"Yes\" and you will be asked for your system password. Enter that and you should see a normal terminal session prompt.\n",
    "\n",
    "Congratulations! Your server is now ready for installation of the ICOM software!\n"
   ]
  }
 ],
 "metadata": {
  "kernelspec": {
   "display_name": "Python 3 (ipykernel)",
   "language": "python",
   "name": "python3"
  },
  "language_info": {
   "codemirror_mode": {
    "name": "ipython",
    "version": 3
   },
   "file_extension": ".py",
   "mimetype": "text/x-python",
   "name": "python",
   "nbconvert_exporter": "python",
   "pygments_lexer": "ipython3",
   "version": "3.10.6"
  },
  "toc": {
   "base_numbering": 1,
   "nav_menu": {},
   "number_sections": true,
   "sideBar": true,
   "skip_h1_title": false,
   "title_cell": "Table of Contents",
   "title_sidebar": "Contents",
   "toc_cell": false,
   "toc_position": {},
   "toc_section_display": true,
   "toc_window_display": false
  },
  "varInspector": {
   "cols": {
    "lenName": 16,
    "lenType": 16,
    "lenVar": 40
   },
   "kernels_config": {
    "python": {
     "delete_cmd_postfix": "",
     "delete_cmd_prefix": "del ",
     "library": "var_list.py",
     "varRefreshCmd": "print(var_dic_list())"
    },
    "r": {
     "delete_cmd_postfix": ") ",
     "delete_cmd_prefix": "rm(",
     "library": "var_list.r",
     "varRefreshCmd": "cat(var_dic_list()) "
    }
   },
   "types_to_exclude": [
    "module",
    "function",
    "builtin_function_or_method",
    "instance",
    "_Feature"
   ],
   "window_display": false
  }
 },
 "nbformat": 4,
 "nbformat_minor": 5
}
