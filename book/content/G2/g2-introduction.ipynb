{
 "cells": [
  {
   "cell_type": "markdown",
   "id": "6080add2",
   "metadata": {},
   "source": [
    "# G2 Introduction"
   ]
  },
  {
   "cell_type": "markdown",
   "id": "e476bf5d",
   "metadata": {},
   "source": [
    "These notes were created while rebuilding the gateway servers for two\n",
    "*D-Star* repeaters in central Texas. I am new to *D-Star*, but have a lot ofexperience in software design, and I have taught Computer Science at the college level. I thought my experience with *Linux* systems would let me contribute to the *D-Star* community in the area, and that could help me get my equipment running as well. So, I volunteered to help rebuild two servers that were falling into disrepair. \n",
    "\n",
    "At both sites, we elected to replace aging systems with new systems and\n",
    "reinstall all of the software from scratch."
   ]
  },
  {
   "cell_type": "markdown",
   "id": "b33a505d",
   "metadata": {},
   "source": [
    "## Why are you here?"
   ]
  },
  {
   "cell_type": "markdown",
   "id": "ee6df68e",
   "metadata": {},
   "source": [
    "If you are reading these notes, you are probably in one of two situations:\n",
    "\n",
    "- You need to build up a new *D-Star* Gateway server from scratch\n",
    "\n",
    "- You are rebuilding a *D-Star* Gateway server than has been in use for a while.\n",
    "\n",
    "Hopefully, these notes will help in both situations. The real difference in the two situations involves capturing existing data on a running server and reinstalling that data on the rebuilt server.\n",
    "\n",
    "Unlike other references you might find on the Internet, I am going to do\n",
    "something different here. Instead of just telling you to \"run this script\", I am going to show you exactly what the script does. Then I will attempt to devise a test that you can run to make sure that script (or portion of a script) did what it was supposed to do on your new )or updated) gateway server."
   ]
  },
  {
   "cell_type": "markdown",
   "id": "e5ad7973",
   "metadata": {},
   "source": [
    "## Required Hardware\n",
    "\n",
    "The gateway systems at the two repeater sites I am working on had very old machines that really needed to be replaced. So, we set up new Mini-ITX systems with SSD hard disk drives and the required two network adapters as replacements. Neither of these systems has a DVD drive, but they have several USB ports making software installation easy. \n",
    "\n",
    "Here are the basic specifications for the server hardware we used:\n",
    "\n",
    "- Processor: Intel I5 G3258 @ 3.2GHz\n",
    "\n",
    "- Ram: 8GB (ram is cheap, don't skimp!)\n",
    "\n",
    "- 100GB SSD disk\n",
    "\n",
    "- Dual Ethernet Adapters\n",
    "\n",
    "We used a mini-ITX case for these servers, as there is no need for anything bigger.\n",
    "\n",
    "\n",
    "## Required Software\n",
    "\n",
    "Setting up a *D-Star* gateway requires access to the official Icom Gateway Software, which is distributed with the repeater hardware. Icom has chosen to keep this software closed source, and the setup requires very specific versions of operating system and other components. I am not happy about this, since many of these requirements are very old, and may soon be unsupported. In order to keep *D-Star* a viable system for Amateur Radio users, this has to change. \n",
    "\n",
    "That topic is best left to other forums. For this site, I will keep my opinions to myself, and show how our repeaters were set up."
   ]
  }
 ],
 "metadata": {
  "kernelspec": {
   "display_name": "Python 3 (ipykernel)",
   "language": "python",
   "name": "python3"
  },
  "language_info": {
   "codemirror_mode": {
    "name": "ipython",
    "version": 3
   },
   "file_extension": ".py",
   "mimetype": "text/x-python",
   "name": "python",
   "nbconvert_exporter": "python",
   "pygments_lexer": "ipython3",
   "version": "3.10.6"
  },
  "toc": {
   "base_numbering": 1,
   "nav_menu": {},
   "number_sections": true,
   "sideBar": true,
   "skip_h1_title": false,
   "title_cell": "Table of Contents",
   "title_sidebar": "Contents",
   "toc_cell": false,
   "toc_position": {},
   "toc_section_display": true,
   "toc_window_display": false
  },
  "varInspector": {
   "cols": {
    "lenName": 16,
    "lenType": 16,
    "lenVar": 40
   },
   "kernels_config": {
    "python": {
     "delete_cmd_postfix": "",
     "delete_cmd_prefix": "del ",
     "library": "var_list.py",
     "varRefreshCmd": "print(var_dic_list())"
    },
    "r": {
     "delete_cmd_postfix": ") ",
     "delete_cmd_prefix": "rm(",
     "library": "var_list.r",
     "varRefreshCmd": "cat(var_dic_list()) "
    }
   },
   "types_to_exclude": [
    "module",
    "function",
    "builtin_function_or_method",
    "instance",
    "_Feature"
   ],
   "window_display": false
  }
 },
 "nbformat": 4,
 "nbformat_minor": 5
}
