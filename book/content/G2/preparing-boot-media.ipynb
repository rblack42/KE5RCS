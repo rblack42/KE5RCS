{
 "cells": [
  {
   "cell_type": "markdown",
   "id": "06d9ce3f",
   "metadata": {},
   "source": [
    "(boot-media)=\n",
    "# Preparing Boot Media"
   ]
  },
  {
   "cell_type": "markdown",
   "id": "7c6d2ddb",
   "metadata": {},
   "source": [
    "For reasons best left for a later discussion, to set up a D-Star Gateway\n",
    "control server, you will need to install a 32-bit version of CentOS 5. The last release of that software was version 5.11 created in 2014. \n",
    "\n",
    "Assuming you plan on installing a *D-Star* Gateway server on a fresh machine, we need to create a media set suitable for booting the machine into the installation process. If your machine has a DVD drive, that means creating a bootable DVD. If not, you should be able to use a USB flash drive to boot the system, or connect a USB DVD drive. \n"
   ]
  },
  {
   "cell_type": "markdown",
   "id": "078a519f",
   "metadata": {},
   "source": [
    "## Download the ISO\n",
    "\n",
    "I downloaded the files needed from this link:\n",
    "\n",
    "- http://centos-mirror.jchost.net/5.11/isos/i386/\n",
    "\n",
    "Although the full release takes two files, we really only need the first of these. Here is a command that will fetch this file on a Mac/Linux system, or download the file using your web browser:\n",
    "\n",
    "```{bash}\n",
    "$ wget http://centos-mirror.jchost.net/5.11/isos/i386/CentOS-5.11-i386-bin-DVD-1of2.iso\n",
    "```\n"
   ]
  },
  {
   "cell_type": "markdown",
   "id": "97a6c253",
   "metadata": {},
   "source": [
    "## Build DVD Boot Disk\n",
    "\n",
    "It used to be common for folks to use a DVD drive to load a new OS.\n",
    "Unfortunately, these are not so common on systems today. I do have a portable USB DVD drive I use as a backup when I really need to use a DVD. \n",
    "\n",
    "I usually try to set up a USB flash drive for installing new operating systems, but occasionally this does not work. On the server I am building now, the USB flash drive I created on my MacBook would not boot. Rather than worry about why, I decided to create a bootable DVD using my portable USB DVD drive.\n",
    "\n",
    "On the Mac this was super easy. \n",
    "\n",
    "- Plug in the DVD drive\n",
    "- Right-click on the ISO filename\n",
    "- Select `Burn ISO to DVD Drive`.\n",
    "\n",
    "The process took several minutes to burn and verify the DVD. Once that was completed, booting the server went smoothly!\n"
   ]
  },
  {
   "cell_type": "markdown",
   "id": "ce8e4434",
   "metadata": {},
   "source": [
    "## Build USB Boot Drive\n",
    "\n",
    "n case your system behaves better, here are the steps to build a bootable\n",
    "(maybe) USB drive on a Mac:\n",
    "\n",
    "### 1. Prepare the ISO\n",
    "\n",
    "We downloaded the ISO earlier. I copy this file into a working directory so I do not risk losing it.\n",
    "\n",
    "```{bash}\n",
    "$ cd Downloads\n",
    "$ cp CentOS-5.11-i386-bin-DVD-1of2.iso ~/_projects/D-Star/files\n",
    "$ cd ~/_projects/D-Star/files\n",
    "$ ls\n",
    "CentOS-5.11-i386-bin-DVD-1of2.iso\n",
    "```\n",
    "\n",
    "Next, we convert the ISO file into a form the OS can copy to the USB drive:\n",
    "\n",
    "```{bash}\n",
    "$ hdiutil convert -format UDRW -o ~/_projects/D-Star/files/CentOS5.11-32 ~/_projects/D-Star/files/CentOS-5.11-i386-bin-DVD-1of2.iso \n",
    "    Reading CentOS_5.11_Final                (Apple_ISO : 0)…\n",
    "    ...............................................................................\n",
    "    Elapsed Time: 24.878s\n",
    "    Speed: 157.7Mbytes/sec\n",
    "    Savings: 0.0%\n",
    "    created: /Users/rblack/_projects/D-Star/files/CentOS5.11-32.dmg\n",
    "```\n",
    "\n",
    "### 2. Copy to USB\n",
    "\n",
    "For the next step, we need to mount the USB drive and figure out what device it ends up using. Plug in the flash drive and make sure you see the drive icon on the desktop. Then do this:\n",
    "\n",
    "```{bash}\n",
    "$ diskutil list\n",
    "    /dev/disk0 (internal, physical):\n",
    "       #:                       TYPE NAME                    SIZE       IDENTIFIER\n",
    "       0:      GUID_partition_scheme                        *500.3 GB   disk0\n",
    "       1:                        EFI EFI                     209.7 MB   disk0s1\n",
    "       2:          Apple_CoreStorage MacPro2                 499.4 GB   disk0s2\n",
    "       3:                 Apple_Boot Recovery HD             650.0 MB   disk0s3\n",
    "    /dev/disk1 (internal, virtual):\n",
    "       #:                       TYPE NAME                    SIZE       IDENTIFIER\n",
    "       0:                  Apple_HFS MacPro2                +499.0 GB   disk1\n",
    "                                     Logical Volume on disk0s2\n",
    "                                     8A995A0D-E7F4-4659-A116-EDDB369312AA\n",
    "                                     Unencrypted\n",
    "    /dev/disk2 (external, physical):\n",
    "       #:                       TYPE NAME                    SIZE       IDENTIFIER\n",
    "       0:     FDisk_partition_scheme                        *16.0 GB    disk2\n",
    "       1:             Windows_FAT_32 Lexar                   16.0 GB    disk2s1\n",
    "```\n",
    "\n",
    "From this output, we see that the flash drive is mounted on **/dev/disk2**. It is important to get this right, since we will be wiping out all storage on this device. You do not want to zap your primary hard disk!\n",
    "\n",
    "```{bash}\n",
    "$ diskutil unmountDisk /dev/disk2\n",
    "Unmount of all volumes on disk2 was successful\n",
    "```\n",
    "\n",
    "The next step does the actual copy:\n",
    "\n",
    "```{bash}\n",
    "$ sudo dd if=~/_projects/D-Star/files/CentOS-5.11-32.dmg of=/dev/disk2 bs=1m\n",
    "    Password:\n",
    "```\n",
    "\n",
    "This step takes a few minutes to complete, and there is no indication of\n",
    "progress. Eventually, it will complete.\n"
   ]
  },
  {
   "cell_type": "code",
   "execution_count": null,
   "id": "dda56e5e",
   "metadata": {},
   "outputs": [],
   "source": []
  }
 ],
 "metadata": {
  "kernelspec": {
   "display_name": "Python 3 (ipykernel)",
   "language": "python",
   "name": "python3"
  },
  "language_info": {
   "codemirror_mode": {
    "name": "ipython",
    "version": 3
   },
   "file_extension": ".py",
   "mimetype": "text/x-python",
   "name": "python",
   "nbconvert_exporter": "python",
   "pygments_lexer": "ipython3",
   "version": "3.10.6"
  },
  "toc": {
   "base_numbering": 1,
   "nav_menu": {},
   "number_sections": true,
   "sideBar": true,
   "skip_h1_title": false,
   "title_cell": "Table of Contents",
   "title_sidebar": "Contents",
   "toc_cell": false,
   "toc_position": {},
   "toc_section_display": true,
   "toc_window_display": false
  },
  "varInspector": {
   "cols": {
    "lenName": 16,
    "lenType": 16,
    "lenVar": 40
   },
   "kernels_config": {
    "python": {
     "delete_cmd_postfix": "",
     "delete_cmd_prefix": "del ",
     "library": "var_list.py",
     "varRefreshCmd": "print(var_dic_list())"
    },
    "r": {
     "delete_cmd_postfix": ") ",
     "delete_cmd_prefix": "rm(",
     "library": "var_list.r",
     "varRefreshCmd": "cat(var_dic_list()) "
    }
   },
   "types_to_exclude": [
    "module",
    "function",
    "builtin_function_or_method",
    "instance",
    "_Feature"
   ],
   "window_display": false
  }
 },
 "nbformat": 4,
 "nbformat_minor": 5
}
