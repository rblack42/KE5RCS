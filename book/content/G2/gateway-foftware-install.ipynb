{
 "cells": [
  {
   "cell_type": "markdown",
   "id": "79220313",
   "metadata": {},
   "source": [
    "(gateway-software-install)=\n",
    "# Installing the Gateway Software"
   ]
  },
  {
   "cell_type": "markdown",
   "id": "75a7304b",
   "metadata": {},
   "source": [
    "The script provided with the Icom software is a huge file with over 100 steps. The script is fairly easy to run, but it has features that are a bit old-fashioned in today’s world. To make sure I understood what was happening as this script runs, I decided to break it up and look at each of the steps. This note is the result of that study.\n",
    "\n",
    "```{note}\n",
    "This script needs to be run while logged in as the root user.\n",
    "```\n",
    "\n",
    "Here is how you launch the installation script:\n",
    "\n",
    "```{bash}\n",
    "$ ssh <server-ip-address>\n",
    "$ sudo su -\n",
    "<enter sudo user password>\n",
    "# cd /home/n5ujh/dstar/RS-RP2C\n",
    "./dstar_gw-install\n",
    "```"
   ]
  },
  {
   "cell_type": "markdown",
   "id": "8ff19e51",
   "metadata": {},
   "source": [
    "Script Structure\n",
    "The script is set up as three major function, and a main routine that files up things as needed.\n",
    "\n",
    "The main routine is found at the end of the script (at line 1585. The first thing it does is run the check function, which examines the running system to see if installation can proceed.\n",
    "\n",
    "1584\n",
    "1585\n",
    "1586\n",
    "1587\n",
    "1588\n",
    "1589\n",
    "1590\n",
    "1591\n",
    "1592\n",
    "1593\n",
    "\n",
    "###### main() ######\n",
    "\n",
    "##start check\n",
    "check\n",
    "if [ $? != 0 ];then\n",
    "\techo \"*** install failed. *** (100.1)\" | tee -a ~/dstar_gw-install.log\n",
    "\texit\n",
    "else\n",
    "\ttrue\n"
   ]
  }
 ],
 "metadata": {
  "kernelspec": {
   "display_name": "Python 3 (ipykernel)",
   "language": "python",
   "name": "python3"
  },
  "language_info": {
   "codemirror_mode": {
    "name": "ipython",
    "version": 3
   },
   "file_extension": ".py",
   "mimetype": "text/x-python",
   "name": "python",
   "nbconvert_exporter": "python",
   "pygments_lexer": "ipython3",
   "version": "3.10.6"
  },
  "toc": {
   "base_numbering": 1,
   "nav_menu": {},
   "number_sections": true,
   "sideBar": true,
   "skip_h1_title": false,
   "title_cell": "Table of Contents",
   "title_sidebar": "Contents",
   "toc_cell": false,
   "toc_position": {},
   "toc_section_display": true,
   "toc_window_display": false
  },
  "varInspector": {
   "cols": {
    "lenName": 16,
    "lenType": 16,
    "lenVar": 40
   },
   "kernels_config": {
    "python": {
     "delete_cmd_postfix": "",
     "delete_cmd_prefix": "del ",
     "library": "var_list.py",
     "varRefreshCmd": "print(var_dic_list())"
    },
    "r": {
     "delete_cmd_postfix": ") ",
     "delete_cmd_prefix": "rm(",
     "library": "var_list.r",
     "varRefreshCmd": "cat(var_dic_list()) "
    }
   },
   "types_to_exclude": [
    "module",
    "function",
    "builtin_function_or_method",
    "instance",
    "_Feature"
   ],
   "window_display": false
  }
 },
 "nbformat": 4,
 "nbformat_minor": 5
}
