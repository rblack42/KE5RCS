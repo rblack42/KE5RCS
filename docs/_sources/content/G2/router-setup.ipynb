{
 "cells": [
  {
   "cell_type": "markdown",
   "id": "04c30560",
   "metadata": {},
   "source": [
    "# Configuring a Second Router"
   ]
  },
  {
   "cell_type": "markdown",
   "id": "177a6355",
   "metadata": {},
   "source": [
    "The installation of software on a D-Star gateway server requires configuring\n",
    "the gateway server network adapters as they will be set up at the final\n",
    "repeater site. The first time I went through the installation process, I\n",
    "reconfigured my home network to match the repeater site. This was a pain, and a process I do not want to repeat.\n",
    "\n",
    "A better solution is to use a second router in your home network and configure the network behind that new router to match the repeater site.\n",
    "\n",
    "My home router is an `Apple Airport Extreme` connected to my cable modem, and set to deliver 10.0.1.xxx IP addresses inside my home network.\n",
    "\n",
    "I connected a `Linksys` WRT54G router to the `Airport Extreme`. The cable runs from an available LAN port on the Airport to the WAN port on the `Linksys`. An available LAN port on the `Linksys` is connected to the Primary LAN port on the gateway server. This is what the setup looks like:"
   ]
  },
  {
   "cell_type": "code",
   "execution_count": 7,
   "id": "52644e6e",
   "metadata": {},
   "outputs": [],
   "source": [
    "from IPython.display import Image # to display the images"
   ]
  },
  {
   "cell_type": "markdown",
   "id": "92357c38",
   "metadata": {},
   "source": [
    "![Router Setup](../../assets/images/TestNetwork.png)"
   ]
  },
  {
   "cell_type": "markdown",
   "id": "ecc9b16d",
   "metadata": {},
   "source": [
    "## Configuring the AirPort Router\n",
    "\n",
    "There are two ways to set up the home network for the new router. The easiest is to let the Airport Extreme assign an IP address to the new router. The *Linksys* router is left in its default configuration and will get an IP address from the *Airport* router using DHCP. The address assigned using this scheme is generally not know in advance, but my *Airport Extreme* supports assigning a fixed IP address based on the MAC address of the attached device.\n",
    "\n",
    "The second way to set things up involves assigning a static IP address on the *Linksys* that is outside of the range of addresses the *Airport Extreme* will assign through DHCP. Since my router is set up to assign IP addresses in the 10.0.1.1xx range, I chose an address of 10.0.1.204 for my setup."
   ]
  },
  {
   "cell_type": "markdown",
   "id": "ddf0546d",
   "metadata": {},
   "source": [
    "## Configuring the Airport Extreme\n",
    "\n",
    "If you choose to let the home router assign a fixed IP address using the DHCP protocol, you need to get the MAC address from the *Linksys* router. To do this, you will need to access the *Linksys* control panel. \n",
    "\n",
    "Hook up a laptop to the LAN side of the router and log into the administrator panel on the router. On my *Linksys*, the control panel status page showed this:\n",
    "\n",
    "![Router Status](../../assets/images/RouterStatus.png)\n",
    "\n",
    "The *Airport Extreme* control panel has a control to set the DHCP IP reservation using the MAC address. Check other routers to see if they support something similar."
   ]
  },
  {
   "cell_type": "markdown",
   "id": "113d8076",
   "metadata": {},
   "source": [
    "## Configuring Linksys for Static IP\n",
    "\n",
    "To set a fixed IP address for the WAN side of the *Linksys* router, log into the control panel and navigate to the **Setup** menu. Here is how I configured the router:\n",
    "\n",
    "![Router Static IP](../../assets/images/Router1.png)\n",
    "\n",
    "The gateway setting matches my *Airport Extreme* router, which will forward traffic from the *Linksys* to the Internet or other machines in my home network!\n",
    "\n",
    "To make it easier to change settings later, I also configured the *Linksys* router for external admin access. This opens up port 8080 on the external (WAN) IP address so you can access the router admin panel by opening a browser on a system in the home network and navigating to 10.0.1.204:8080. These settings are found on the *Administration* menu:\n",
    "\n",
    "![External Admin Access Settings](../../assets/images/Router1a.png)\n",
    "\n",
    "```{note}\n",
    "You must change the default admin password on the router for this setting to be changed. I used a temporary password for testing.\n",
    "```"
   ]
  },
  {
   "cell_type": "markdown",
   "id": "3dff668a",
   "metadata": {},
   "source": [
    "## Router LAN Settings\n",
    "\n",
    "Next, we need to configure the router for a static LAN IP address. Access the **Setup** menu. Under the **Network IP** settings area and set as follows:\n",
    "![Router WAN address settings](../../assets/images/Router2a.png)\n",
    "\n",
    "The address of 10.0.0.1 is required for the icon software setup. "
   ]
  },
  {
   "cell_type": "markdown",
   "id": "5267d2ed",
   "metadata": {},
   "source": [
    "## Port Forwarding\n",
    "\n",
    "We will want to access the new gateway server using HTTPS and SSH protocols,\n",
    "and access the router control panel. To make all of this happen, we need to set\n",
    "up port forwarding on the ``Applications and Gaming`` menu:\n",
    "![Router WAN address settings](../../assets/images/Router3.png)"
   ]
  },
  {
   "cell_type": "markdown",
   "id": "ca36fcd7",
   "metadata": {},
   "source": [
    "## Communicating with the Server\n",
    "\n",
    "With the repeater server attached to the *Linksys* router on one of the LAN ports, we will set up the **en0** network adapter so it gets a static IP address of 10.0.0.2 (required by the ICOM software). Once this setup has been done, you should be able to reach the new server using SSH to 10.0.1.204, and access the web server using the HTTPS protocols.\n",
    "\n",
    "With this basic hardware setup completed, we can start configuring the gateway server."
   ]
  },
  {
   "cell_type": "code",
   "execution_count": null,
   "id": "e7b8a84b",
   "metadata": {},
   "outputs": [],
   "source": []
  }
 ],
 "metadata": {
  "kernelspec": {
   "display_name": "Python 3 (ipykernel)",
   "language": "python",
   "name": "python3"
  },
  "language_info": {
   "codemirror_mode": {
    "name": "ipython",
    "version": 3
   },
   "file_extension": ".py",
   "mimetype": "text/x-python",
   "name": "python",
   "nbconvert_exporter": "python",
   "pygments_lexer": "ipython3",
   "version": "3.10.6"
  },
  "toc": {
   "base_numbering": 1,
   "nav_menu": {},
   "number_sections": true,
   "sideBar": true,
   "skip_h1_title": false,
   "title_cell": "Table of Contents",
   "title_sidebar": "Contents",
   "toc_cell": false,
   "toc_position": {},
   "toc_section_display": true,
   "toc_window_display": false
  },
  "varInspector": {
   "cols": {
    "lenName": 16,
    "lenType": 16,
    "lenVar": 40
   },
   "kernels_config": {
    "python": {
     "delete_cmd_postfix": "",
     "delete_cmd_prefix": "del ",
     "library": "var_list.py",
     "varRefreshCmd": "print(var_dic_list())"
    },
    "r": {
     "delete_cmd_postfix": ") ",
     "delete_cmd_prefix": "rm(",
     "library": "var_list.r",
     "varRefreshCmd": "cat(var_dic_list()) "
    }
   },
   "types_to_exclude": [
    "module",
    "function",
    "builtin_function_or_method",
    "instance",
    "_Feature"
   ],
   "window_display": false
  }
 },
 "nbformat": 4,
 "nbformat_minor": 5
}
