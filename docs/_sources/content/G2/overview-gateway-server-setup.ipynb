{
 "cells": [
  {
   "cell_type": "markdown",
   "id": "df1abd50",
   "metadata": {},
   "source": [
    "# Overview of Gateway Server Setup"
   ]
  },
  {
   "cell_type": "markdown",
   "id": "6735f62c",
   "metadata": {},
   "source": [
    "Setting up a *D-Star* gateway server is not difficult, but there are many steps to be worked through, and confirming things are properly in place it not well documented. Testing of components is just not discussed in the references I have seen.\n",
    "\n",
    "I am attempting to document the process in sufficient detail that a novice administrator can get a system working in a reasonable way, and be confident that the system is working properly. Accordingly, I will show the steps that need to be followed, and include system check commands that confirm that each step succeeded in setting up a single component of the system. \n",
    "\n",
    "```{warning}\n",
    "The site is visible now, but the testing steps are a work in progress. I will update these notes as I work through the installation process in detail.\n",
    "```"
   ]
  },
  {
   "cell_type": "markdown",
   "id": "5849fbfb",
   "metadata": {},
   "source": [
    "## The Basic Steps\n",
    "\n",
    "Here is a list of the steps we need to complete to get the gateway server running. This list links to pages that detail the procedures to follow for each step.\n",
    "\n",
    "The starting point for this process is a clean system with no operating system installed. Tools are available to reformat the hard drive of a system, and that is a good way t make sure your hard disk is free of old \"junk\"\n",
    "\n",
    "- [Create Boot Media for the OS](boot-media.html)\n",
    "\n",
    "- {ref}`Configure your Network<gw-network>`\n",
    "\n",
    "- [Install CentOS 5.11](OS-install.html)\n",
    "\n",
    "- [Configure DNS](DNS-install.html)\n",
    "\n",
    "- [Install-Icom Gateway Software](gateway-software-install.html)\n",
    "\n",
    "- Restore Backup Data\n",
    "\n",
    "- [Install G2 Updates](G2-updates.html)\n",
    "\n",
    "- Restore Postgres Database\n",
    "\n",
    "- Configure *DstarMonitor*\n",
    "\n",
    "- Configure dplus <../DplusInstall>\n",
    "\n",
    "- Managing the Gateway <../ControlScripts>\n",
    "\n",
    "\n",
    "\n"
   ]
  }
 ],
 "metadata": {
  "kernelspec": {
   "display_name": "Python 3 (ipykernel)",
   "language": "python",
   "name": "python3"
  },
  "language_info": {
   "codemirror_mode": {
    "name": "ipython",
    "version": 3
   },
   "file_extension": ".py",
   "mimetype": "text/x-python",
   "name": "python",
   "nbconvert_exporter": "python",
   "pygments_lexer": "ipython3",
   "version": "3.10.6"
  },
  "toc": {
   "base_numbering": 1,
   "nav_menu": {},
   "number_sections": true,
   "sideBar": true,
   "skip_h1_title": false,
   "title_cell": "Table of Contents",
   "title_sidebar": "Contents",
   "toc_cell": false,
   "toc_position": {},
   "toc_section_display": true,
   "toc_window_display": false
  },
  "varInspector": {
   "cols": {
    "lenName": 16,
    "lenType": 16,
    "lenVar": 40
   },
   "kernels_config": {
    "python": {
     "delete_cmd_postfix": "",
     "delete_cmd_prefix": "del ",
     "library": "var_list.py",
     "varRefreshCmd": "print(var_dic_list())"
    },
    "r": {
     "delete_cmd_postfix": ") ",
     "delete_cmd_prefix": "rm(",
     "library": "var_list.r",
     "varRefreshCmd": "cat(var_dic_list()) "
    }
   },
   "types_to_exclude": [
    "module",
    "function",
    "builtin_function_or_method",
    "instance",
    "_Feature"
   ],
   "window_display": false
  }
 },
 "nbformat": 4,
 "nbformat_minor": 5
}
